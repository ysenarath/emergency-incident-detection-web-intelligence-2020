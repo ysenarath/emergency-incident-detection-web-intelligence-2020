{
 "cells": [
  {
   "cell_type": "code",
   "execution_count": 1,
   "metadata": {},
   "outputs": [],
   "source": [
    "import math\n",
    "from datetime import datetime, timedelta\n",
    "from functools import partial\n",
    "import tqdm\n",
    "\n",
    "import h3\n",
    "import matplotlib.pyplot as plt\n",
    "%matplotlib inline\n",
    "import numpy as np\n",
    "import pandas as pd\n",
    "import pyproj\n",
    "import geopandas\n",
    "\n",
    "from shapely.strtree import STRtree\n",
    "from shapely.geometry import Point, MultiPoint, Polygon\n",
    "from shapely.ops import cascaded_union, transform"
   ]
  },
  {
   "cell_type": "code",
   "execution_count": 2,
   "metadata": {},
   "outputs": [],
   "source": [
    "incident_df = pd.read_pickle('output/tdot_12_incidents.pkl')\n",
    "incident_df['time'] = pd.to_datetime(incident_df['timestamp'], unit='s')"
   ]
  },
  {
   "cell_type": "code",
   "execution_count": 3,
   "metadata": {},
   "outputs": [],
   "source": [
    "report_df = pd.read_csv('output/waze_12_etrims.csv', index_col=0)\n",
    "# pubMillis (NUMERIC) - milliseconds since epoch\n",
    "report_df['time'] = pd.to_datetime(report_df['pubMillis'], unit='ms')\n",
    "dist_to_segment = 1  # distance in degrees\n",
    "report_df = report_df[report_df.seg_id_dist * 1000 < dist_to_segment]"
   ]
  },
  {
   "cell_type": "code",
   "execution_count": 4,
   "metadata": {},
   "outputs": [
    {
     "data": {
      "text/plain": [
       "<matplotlib.axes._subplots.AxesSubplot at 0x118422c50>"
      ]
     },
     "execution_count": 4,
     "metadata": {},
     "output_type": "execute_result"
    },
    {
     "data": {
      "image/png": "[encoded data removed]",
      "text/plain": [
       "<Figure size 432x288 with 1 Axes>"
      ]
     },
     "metadata": {
      "needs_background": "light"
     },
     "output_type": "display_data"
    }
   ],
   "source": [
    "grid_size_resolution = []\n",
    "\n",
    "for resolution in range(16):\n",
    "    h3_grids = [h3.geo_to_h3(lat, lng, resolution) for lat, lng in zip(incident_df.lat, incident_df.lng)]\n",
    "    grid_size_resolution.append({\n",
    "        'resolution': resolution,\n",
    "        'len_h3_grids': len(np.unique(h3_grids)),\n",
    "    })\n",
    "    \n",
    "grid_size_resolution_df = pd.DataFrame(grid_size_resolution)\n",
    "\n",
    "grid_size_resolution_df.plot.line()"
   ]
  },
  {
   "cell_type": "code",
   "execution_count": 5,
   "metadata": {},
   "outputs": [],
   "source": [
    "def project_coordinates(lng, lat, radius=None):\n",
    "    local_azimuthal_projection = \"+proj=aeqd +R=6371000 +units=m +lat_0={} +lon_0={}\".format(lat, lng)\n",
    "    wgs84_to_aeqd = partial(\n",
    "        pyproj.transform,\n",
    "        pyproj.Proj(\"+proj=longlat +datum=WGS84 +no_defs\"),\n",
    "        pyproj.Proj(local_azimuthal_projection),\n",
    "    )\n",
    "    aeqd_to_wgs84 = partial(\n",
    "        pyproj.transform,\n",
    "        pyproj.Proj(local_azimuthal_projection),\n",
    "        pyproj.Proj(\"+proj=longlat +datum=WGS84 +no_defs\"),\n",
    "    )\n",
    "    center = Point(float(lng), float(lat))\n",
    "    point_transformed = transform(wgs84_to_aeqd, center)\n",
    "    if radius is not None:\n",
    "        buffer = point_transformed.buffer(radius) # in meters\n",
    "    else:\n",
    "        buffer = point_transformed\n",
    "    # Get the polygon with lat lon coordinates\n",
    "    return transform(aeqd_to_wgs84, buffer)"
   ]
  },
  {
   "cell_type": "code",
   "execution_count": 30,
   "metadata": {},
   "outputs": [
    {
     "name": "stdout",
     "output_type": "stream",
     "text": [
      "(-122.44267457650938, 37.76497878394082, -122.41991942349063, 37.78296521605919)\n",
      "(37.773972, -122.431297)\n",
      "\n",
      "86283082fffffff\n",
      "((37.74066613210137, -122.40813889567377), (37.76546768434345, -122.37681938644465), (37.79831548273904, -122.38694609754087), (37.80635261649481, -122.42840891818561), (37.78154533060492, -122.45971797898419), (37.74870664801546, -122.44957468417971))\n",
      "\n",
      "(-122.45971797898419, 37.74066613210137, -122.37681938644465, 37.80635261649481)\n",
      "\n",
      "0.0003209347924537753\n",
      "\n",
      "86264d027ffffff\n",
      "86264d107ffffff\n",
      "86264d11fffffff\n",
      "86264d12fffffff\n",
      "86264d157ffffff\n",
      "86264d177ffffff\n"
     ]
    },
    {
     "data": {
      "image/png": "[encoded data removed]",
      "text/plain": [
       "<Figure size 432x288 with 1 Axes>"
      ]
     },
     "metadata": {
      "needs_background": "light"
     },
     "output_type": "display_data"
    }
   ],
   "source": [
    "# Example grid - incident overlap\n",
    "lng, lat = -122.431297, 37.773972 # lon lat for San Francisco (from StackOverflow)\n",
    "\n",
    "radius = 1000  # in m\n",
    "\n",
    "aperture_size = 6  # Grid Resolution\n",
    "\n",
    "buffer = project_coordinates(lng, lat, radius)\n",
    "\n",
    "print(buffer.bounds)\n",
    "\n",
    "pt = project_coordinates(lng, lat)\n",
    "\n",
    "print((pt.y, pt.x), end='\\n\\n')\n",
    "\n",
    "print(h3.geo_to_h3(pt.y, pt.x, aperture_size))\n",
    "\n",
    "boundary = h3.h3_to_geo_boundary(h3.geo_to_h3(pt.y, pt.x, aperture_size))\n",
    "\n",
    "print(boundary, end='\\n\\n')\n",
    "\n",
    "grid = Polygon([(x, y) for (y, x) in boundary])\n",
    "\n",
    "print(grid.bounds, end='\\n\\n')\n",
    "\n",
    "print(grid.intersection(buffer).area, end='\\n\\n')\n",
    "\n",
    "df1 = geopandas.GeoDataFrame({'geometry': buffer, 'df1':[1,2]})\n",
    "\n",
    "df2 = geopandas.GeoDataFrame({'geometry': grid, 'df2':[1,2]})\n",
    "\n",
    "ax = df1.plot(color='red');\n",
    "\n",
    "df2.plot(ax=ax, color='green', alpha=0.5);\n",
    "\n",
    "for pt in h3_get_neighbors('86264d10fffffff'):\n",
    "    boundary = h3.h3_to_geo_boundary(h3.geo_to_h3(pt.y, pt.x, aperture_size))\n",
    "    grid = Polygon([(x, y) for (y, x) in boundary])\n",
    "    df3 = geopandas.GeoDataFrame({'geometry': grid, 'df2':[1,2]})\n",
    "    df3.plot(ax=ax, color='green', alpha=0.5);"
   ]
  },
  {
   "cell_type": "code",
   "execution_count": 14,
   "metadata": {},
   "outputs": [
    {
     "data": {
      "text/plain": [
       "8       86264dc77ffffff\n",
       "9       86264dd5fffffff\n",
       "10      86264dd5fffffff\n",
       "11      86264dc77ffffff\n",
       "34      86264dc67ffffff\n",
       "             ...       \n",
       "6921    86264d10fffffff\n",
       "6922    86264d10fffffff\n",
       "6923    86264d10fffffff\n",
       "6924    86264d10fffffff\n",
       "6956    86264d10fffffff\n",
       "Name: hex6, Length: 818, dtype: object"
      ]
     },
     "execution_count": 14,
     "metadata": {},
     "output_type": "execute_result"
    }
   ],
   "source": [
    "incident_df[hex_col]\n",
    "\n",
    "Polygon([(x, y) for (y, x) in boundary])"
   ]
  },
  {
   "cell_type": "code",
   "execution_count": 29,
   "metadata": {},
   "outputs": [
    {
     "data": {
      "text/plain": [
       "['86264d027ffffff',\n",
       " '86264d107ffffff',\n",
       " '86264d11fffffff',\n",
       " '86264d12fffffff',\n",
       " '86264d157ffffff',\n",
       " '86264d177ffffff']"
      ]
     },
     "execution_count": 29,
     "metadata": {},
     "output_type": "execute_result"
    }
   ],
   "source": [
    "def h3_get_neighbors(region):\n",
    "    if region.startswith('r_'):\n",
    "        region = region[2:]\n",
    "    return [x for x in np.unique(incident_df[hex_col]) if h3.h3_indexes_are_neighbors(region, x)]\n",
    "        \n"
   ]
  },
  {
   "cell_type": "code",
   "execution_count": 28,
   "metadata": {},
   "outputs": [
    {
     "name": "stderr",
     "output_type": "stream",
     "text": [
      "  3%|▎         | 206/6161 [00:15<07:38, 12.98it/s]\n"
     ]
    },
    {
     "ename": "KeyboardInterrupt",
     "evalue": "",
     "output_type": "error",
     "traceback": [
      "\u001b[0;31m---------------------------------------------------------------------------\u001b[0m",
      "\u001b[0;31mKeyboardInterrupt\u001b[0m                         Traceback (most recent call last)",
      "\u001b[0;32m<ipython-input-28-5542d6017975>\u001b[0m in \u001b[0;36m<module>\u001b[0;34m\u001b[0m\n\u001b[1;32m      1\u001b[0m \u001b[0mwaze_report_uncertainty_regions\u001b[0m \u001b[0;34m=\u001b[0m \u001b[0;34m[\u001b[0m\u001b[0;34m]\u001b[0m\u001b[0;34m\u001b[0m\u001b[0;34m\u001b[0m\u001b[0m\n\u001b[1;32m      2\u001b[0m \u001b[0;32mfor\u001b[0m \u001b[0mlng\u001b[0m\u001b[0;34m,\u001b[0m \u001b[0mlat\u001b[0m \u001b[0;32min\u001b[0m \u001b[0mtqdm\u001b[0m\u001b[0;34m.\u001b[0m\u001b[0mtqdm\u001b[0m\u001b[0;34m(\u001b[0m\u001b[0mlist\u001b[0m\u001b[0;34m(\u001b[0m\u001b[0mzip\u001b[0m\u001b[0;34m(\u001b[0m\u001b[0mreport_df\u001b[0m\u001b[0;34m.\u001b[0m\u001b[0mlng\u001b[0m\u001b[0;34m,\u001b[0m \u001b[0mreport_df\u001b[0m\u001b[0;34m.\u001b[0m\u001b[0mlat\u001b[0m\u001b[0;34m)\u001b[0m\u001b[0;34m)\u001b[0m\u001b[0;34m)\u001b[0m\u001b[0;34m:\u001b[0m\u001b[0;34m\u001b[0m\u001b[0;34m\u001b[0m\u001b[0m\n\u001b[0;32m----> 3\u001b[0;31m     \u001b[0mwaze_report_uncertainty_regions\u001b[0m\u001b[0;34m.\u001b[0m\u001b[0mappend\u001b[0m\u001b[0;34m(\u001b[0m\u001b[0mproject_coordinates\u001b[0m\u001b[0;34m(\u001b[0m\u001b[0mlng\u001b[0m\u001b[0;34m,\u001b[0m \u001b[0mlat\u001b[0m\u001b[0;34m,\u001b[0m \u001b[0mradius\u001b[0m\u001b[0;34m)\u001b[0m\u001b[0;34m)\u001b[0m\u001b[0;34m\u001b[0m\u001b[0;34m\u001b[0m\u001b[0m\n\u001b[0m",
      "\u001b[0;32m<ipython-input-5-54ec7f50c915>\u001b[0m in \u001b[0;36mproject_coordinates\u001b[0;34m(lng, lat, radius)\u001b[0m\n\u001b[1;32m     12\u001b[0m     )\n\u001b[1;32m     13\u001b[0m     \u001b[0mcenter\u001b[0m \u001b[0;34m=\u001b[0m \u001b[0mPoint\u001b[0m\u001b[0;34m(\u001b[0m\u001b[0mfloat\u001b[0m\u001b[0;34m(\u001b[0m\u001b[0mlng\u001b[0m\u001b[0;34m)\u001b[0m\u001b[0;34m,\u001b[0m \u001b[0mfloat\u001b[0m\u001b[0;34m(\u001b[0m\u001b[0mlat\u001b[0m\u001b[0;34m)\u001b[0m\u001b[0;34m)\u001b[0m\u001b[0;34m\u001b[0m\u001b[0;34m\u001b[0m\u001b[0m\n\u001b[0;32m---> 14\u001b[0;31m     \u001b[0mpoint_transformed\u001b[0m \u001b[0;34m=\u001b[0m \u001b[0mtransform\u001b[0m\u001b[0;34m(\u001b[0m\u001b[0mwgs84_to_aeqd\u001b[0m\u001b[0;34m,\u001b[0m \u001b[0mcenter\u001b[0m\u001b[0;34m)\u001b[0m\u001b[0;34m\u001b[0m\u001b[0;34m\u001b[0m\u001b[0m\n\u001b[0m\u001b[1;32m     15\u001b[0m     \u001b[0;32mif\u001b[0m \u001b[0mradius\u001b[0m \u001b[0;32mis\u001b[0m \u001b[0;32mnot\u001b[0m \u001b[0;32mNone\u001b[0m\u001b[0;34m:\u001b[0m\u001b[0;34m\u001b[0m\u001b[0;34m\u001b[0m\u001b[0m\n\u001b[1;32m     16\u001b[0m         \u001b[0mbuffer\u001b[0m \u001b[0;34m=\u001b[0m \u001b[0mpoint_transformed\u001b[0m\u001b[0;34m.\u001b[0m\u001b[0mbuffer\u001b[0m\u001b[0;34m(\u001b[0m\u001b[0mradius\u001b[0m\u001b[0;34m)\u001b[0m \u001b[0;31m# in meters\u001b[0m\u001b[0;34m\u001b[0m\u001b[0;34m\u001b[0m\u001b[0m\n",
      "\u001b[0;32m/opt/anaconda3/lib/python3.7/site-packages/shapely/ops.py\u001b[0m in \u001b[0;36mtransform\u001b[0;34m(func, geom)\u001b[0m\n\u001b[1;32m    232\u001b[0m         \u001b[0;32mtry\u001b[0m\u001b[0;34m:\u001b[0m\u001b[0;34m\u001b[0m\u001b[0;34m\u001b[0m\u001b[0m\n\u001b[1;32m    233\u001b[0m             \u001b[0;32mif\u001b[0m \u001b[0mgeom\u001b[0m\u001b[0;34m.\u001b[0m\u001b[0mtype\u001b[0m \u001b[0;32min\u001b[0m \u001b[0;34m(\u001b[0m\u001b[0;34m'Point'\u001b[0m\u001b[0;34m,\u001b[0m \u001b[0;34m'LineString'\u001b[0m\u001b[0;34m,\u001b[0m \u001b[0;34m'LinearRing'\u001b[0m\u001b[0;34m)\u001b[0m\u001b[0;34m:\u001b[0m\u001b[0;34m\u001b[0m\u001b[0;34m\u001b[0m\u001b[0m\n\u001b[0;32m--> 234\u001b[0;31m                 \u001b[0;32mreturn\u001b[0m \u001b[0mtype\u001b[0m\u001b[0;34m(\u001b[0m\u001b[0mgeom\u001b[0m\u001b[0;34m)\u001b[0m\u001b[0;34m(\u001b[0m\u001b[0mzip\u001b[0m\u001b[0;34m(\u001b[0m\u001b[0;34m*\u001b[0m\u001b[0mfunc\u001b[0m\u001b[0;34m(\u001b[0m\u001b[0;34m*\u001b[0m\u001b[0mizip\u001b[0m\u001b[0;34m(\u001b[0m\u001b[0;34m*\u001b[0m\u001b[0mgeom\u001b[0m\u001b[0;34m.\u001b[0m\u001b[0mcoords\u001b[0m\u001b[0;34m)\u001b[0m\u001b[0;34m)\u001b[0m\u001b[0;34m)\u001b[0m\u001b[0;34m)\u001b[0m\u001b[0;34m\u001b[0m\u001b[0;34m\u001b[0m\u001b[0m\n\u001b[0m\u001b[1;32m    235\u001b[0m             \u001b[0;32melif\u001b[0m \u001b[0mgeom\u001b[0m\u001b[0;34m.\u001b[0m\u001b[0mtype\u001b[0m \u001b[0;34m==\u001b[0m \u001b[0;34m'Polygon'\u001b[0m\u001b[0;34m:\u001b[0m\u001b[0;34m\u001b[0m\u001b[0;34m\u001b[0m\u001b[0m\n\u001b[1;32m    236\u001b[0m                 shell = type(geom.exterior)(\n",
      "\u001b[0;32m/opt/anaconda3/lib/python3.7/site-packages/pyproj/transformer.py\u001b[0m in \u001b[0;36mtransform\u001b[0;34m(p1, p2, x, y, z, tt, radians, errcheck, skip_equivalent, always_xy)\u001b[0m\n\u001b[1;32m    756\u001b[0m     \"\"\"\n\u001b[1;32m    757\u001b[0m     return Transformer.from_proj(\n\u001b[0;32m--> 758\u001b[0;31m         \u001b[0mp1\u001b[0m\u001b[0;34m,\u001b[0m \u001b[0mp2\u001b[0m\u001b[0;34m,\u001b[0m \u001b[0mskip_equivalent\u001b[0m\u001b[0;34m=\u001b[0m\u001b[0mskip_equivalent\u001b[0m\u001b[0;34m,\u001b[0m \u001b[0malways_xy\u001b[0m\u001b[0;34m=\u001b[0m\u001b[0malways_xy\u001b[0m\u001b[0;34m\u001b[0m\u001b[0;34m\u001b[0m\u001b[0m\n\u001b[0m\u001b[1;32m    759\u001b[0m     ).transform(xx=x, yy=y, zz=z, tt=tt, radians=radians, errcheck=errcheck)\n\u001b[1;32m    760\u001b[0m \u001b[0;34m\u001b[0m\u001b[0m\n",
      "\u001b[0;32m/opt/anaconda3/lib/python3.7/site-packages/pyproj/transformer.py\u001b[0m in \u001b[0;36mfrom_proj\u001b[0;34m(proj_from, proj_to, skip_equivalent, always_xy, area_of_interest)\u001b[0m\n\u001b[1;32m    280\u001b[0m             \u001b[0mskip_equivalent\u001b[0m\u001b[0;34m=\u001b[0m\u001b[0mskip_equivalent\u001b[0m\u001b[0;34m,\u001b[0m\u001b[0;34m\u001b[0m\u001b[0;34m\u001b[0m\u001b[0m\n\u001b[1;32m    281\u001b[0m             \u001b[0malways_xy\u001b[0m\u001b[0;34m=\u001b[0m\u001b[0malways_xy\u001b[0m\u001b[0;34m,\u001b[0m\u001b[0;34m\u001b[0m\u001b[0;34m\u001b[0m\u001b[0m\n\u001b[0;32m--> 282\u001b[0;31m             \u001b[0marea_of_interest\u001b[0m\u001b[0;34m=\u001b[0m\u001b[0marea_of_interest\u001b[0m\u001b[0;34m,\u001b[0m\u001b[0;34m\u001b[0m\u001b[0;34m\u001b[0m\u001b[0m\n\u001b[0m\u001b[1;32m    283\u001b[0m         )\n\u001b[1;32m    284\u001b[0m \u001b[0;34m\u001b[0m\u001b[0m\n",
      "\u001b[0;32m/opt/anaconda3/lib/python3.7/site-packages/pyproj/transformer.py\u001b[0m in \u001b[0;36mfrom_crs\u001b[0;34m(crs_from, crs_to, skip_equivalent, always_xy, area_of_interest)\u001b[0m\n\u001b[1;32m    321\u001b[0m                 \u001b[0mskip_equivalent\u001b[0m\u001b[0;34m=\u001b[0m\u001b[0mskip_equivalent\u001b[0m\u001b[0;34m,\u001b[0m\u001b[0;34m\u001b[0m\u001b[0;34m\u001b[0m\u001b[0m\n\u001b[1;32m    322\u001b[0m                 \u001b[0malways_xy\u001b[0m\u001b[0;34m=\u001b[0m\u001b[0malways_xy\u001b[0m\u001b[0;34m,\u001b[0m\u001b[0;34m\u001b[0m\u001b[0;34m\u001b[0m\u001b[0m\n\u001b[0;32m--> 323\u001b[0;31m                 \u001b[0marea_of_interest\u001b[0m\u001b[0;34m=\u001b[0m\u001b[0marea_of_interest\u001b[0m\u001b[0;34m,\u001b[0m\u001b[0;34m\u001b[0m\u001b[0;34m\u001b[0m\u001b[0m\n\u001b[0m\u001b[1;32m    324\u001b[0m             )\n\u001b[1;32m    325\u001b[0m         )\n",
      "\u001b[0;32mpyproj/_transformer.pyx\u001b[0m in \u001b[0;36mpyproj._transformer._Transformer.from_crs\u001b[0;34m()\u001b[0m\n",
      "\u001b[0;32mpyproj/_transformer.pyx\u001b[0m in \u001b[0;36mpyproj._transformer._Transformer._init_from_crs\u001b[0;34m()\u001b[0m\n",
      "\u001b[0;32mpyproj/_transformer.pyx\u001b[0m in \u001b[0;36mpyproj._transformer._Transformer._initialize_from_projobj\u001b[0;34m()\u001b[0m\n",
      "\u001b[0;32mpyproj/_crs.pyx\u001b[0m in \u001b[0;36mpyproj._crs.Base._set_base_info\u001b[0;34m()\u001b[0m\n",
      "\u001b[0;32mpyproj/_crs.pyx\u001b[0m in \u001b[0;36mpyproj._crs.decode_or_undefined\u001b[0;34m()\u001b[0m\n",
      "\u001b[0;32mpyproj/_crs.pyx\u001b[0m in \u001b[0;36mpyproj._crs.cstrdecode\u001b[0;34m()\u001b[0m\n",
      "\u001b[0;32m/opt/anaconda3/lib/python3.7/site-packages/pyproj/compat.py\u001b[0m in \u001b[0;36mpystrdecode\u001b[0;34m(cstr)\u001b[0m\n\u001b[1;32m     14\u001b[0m \u001b[0;34m\u001b[0m\u001b[0m\n\u001b[1;32m     15\u001b[0m \u001b[0;34m\u001b[0m\u001b[0m\n\u001b[0;32m---> 16\u001b[0;31m \u001b[0;32mdef\u001b[0m \u001b[0mpystrdecode\u001b[0m\u001b[0;34m(\u001b[0m\u001b[0mcstr\u001b[0m\u001b[0;34m)\u001b[0m\u001b[0;34m:\u001b[0m\u001b[0;34m\u001b[0m\u001b[0;34m\u001b[0m\u001b[0m\n\u001b[0m\u001b[1;32m     17\u001b[0m     \"\"\"\n\u001b[1;32m     18\u001b[0m     \u001b[0mDecode\u001b[0m \u001b[0ma\u001b[0m \u001b[0mstring\u001b[0m \u001b[0mto\u001b[0m \u001b[0ma\u001b[0m \u001b[0mpython\u001b[0m \u001b[0mstring\u001b[0m\u001b[0;34m.\u001b[0m\u001b[0;34m\u001b[0m\u001b[0;34m\u001b[0m\u001b[0m\n",
      "\u001b[0;31mKeyboardInterrupt\u001b[0m: "
     ]
    }
   ],
   "source": [
    "waze_report_uncertainty_regions = []\n",
    "for lng, lat in tqdm.tqdm(list(zip(report_df.lng, report_df.lat))):\n",
    "    waze_report_uncertainty_regions.append(project_coordinates(lng, lat, radius))"
   ]
  },
  {
   "cell_type": "code",
   "execution_count": null,
   "metadata": {},
   "outputs": [],
   "source": [
    "# Functions\n",
    "def plot_scatter(df, metric_col, x='lng', y='lat', marker='.', alpha=1, figsize=(16, 12), colormap='viridis'):\n",
    "    df.plot.scatter(x=x, y=y, c=metric_col, title=metric_col\n",
    "                    , edgecolors='none', colormap=colormap, marker=marker, alpha=alpha, figsize=figsize)\n",
    "    plt.xticks([], [])\n",
    "    plt.yticks([], [])\n",
    "    \n",
    "hex_col = 'hex' + str(aperture_size)\n",
    "\n",
    "# find hexs containing the points\n",
    "incident_df[hex_col] = incident_df.apply(lambda x: h3.geo_to_h3(x.lat, x.lng, aperture_size), 1)\n",
    "\n",
    "# aggregate the points\n",
    "incident_g_df = incident_df.groupby(hex_col).size().to_frame('cnt').reset_index()\n",
    "\n",
    "# find center of hex for visualization\n",
    "incident_g_df['lat'] = incident_g_df[hex_col].apply(lambda x: h3.h3_to_geo(x)[0])\n",
    "incident_g_df['lng'] = incident_g_df[hex_col].apply(lambda x: h3.h3_to_geo(x)[1])\n",
    "\n",
    "# pltot the hexs\n",
    "plot_scatter(incident_g_df, metric_col='cnt', marker='o', figsize=(16, 12))\n",
    "plt.title('hex-grid: accidents (incident)')"
   ]
  },
  {
   "cell_type": "code",
   "execution_count": null,
   "metadata": {},
   "outputs": [],
   "source": [
    "grid_cell_hex_index = np.unique(incident_df[hex_col])\n",
    "\n",
    "grid_cell_hex_bound = [h3.h3_to_geo_boundary(h) for h in grid_cell_hex_index]\n",
    "\n",
    "grid_cells_hex = [Polygon([(x, y) for (y, x) in h]) for h in grid_cell_hex_bound]\n",
    "\n",
    "grid_cell_index_by_id = dict((id(c), i) for i, c in zip(grid_cell_hex_index, grid_cells_hex))\n",
    "grid_cell_index = STRtree(grid_cells_hex)"
   ]
  },
  {
   "cell_type": "code",
   "execution_count": null,
   "metadata": {},
   "outputs": [],
   "source": [
    "likelihood = []\n",
    "\n",
    "for waze_report_region in tqdm.tqdm(waze_report_uncertainty_regions):\n",
    "    _probs = []\n",
    "    _total_overlap_area = 0.0\n",
    "    for grid_cell in grid_cell_index.query(waze_report_region):\n",
    "        region_intersect = grid_cell.intersection(waze_report_region)\n",
    "        _id = grid_cell_index_by_id[id(grid_cell)]\n",
    "        _overlap_area = region_intersect.area\n",
    "        _total_overlap_area += _overlap_area\n",
    "        if _overlap_area > 0.0:\n",
    "            _probs.append((_id, _overlap_area))\n",
    "    _probs = [(i, p / _total_overlap_area) for i, p in _probs]\n",
    "    likelihood.append(_probs)"
   ]
  },
  {
   "cell_type": "code",
   "execution_count": null,
   "metadata": {},
   "outputs": [],
   "source": [
    "records = []\n",
    "\n",
    "label_aperture_size = 6\n",
    "label_hex_col = 'hex' + str(label_aperture_size)\n",
    "\n",
    "# Consider an accident occurring at a given time if values are in between this period\n",
    "prev_dt = timedelta(minutes=10)  # consider pre accident/incident waze reports\n",
    "post_dt = timedelta(minutes=5)  # consider post accident/incident waze reports\n",
    "\n",
    "items = list(zip(report_df.time, report_df.reliability, likelihood))\n",
    "for time, reliability, region_likelihood in tqdm.tqdm(items):\n",
    "    record = {'time': time, 'reliability':reliability}\n",
    "    record.update(dict({f'r_{r}': l for r, l in region_likelihood}))\n",
    "    records.append(record)\n",
    "    # df_temp = incident_df[(incident_df.time >= (time - post_dt)) & (incident_df.time <= (time + prev_dt))]\n",
    "        \n",
    "records = pd.DataFrame(records).fillna(0)\n",
    "\n",
    "records.shape"
   ]
  },
  {
   "cell_type": "code",
   "execution_count": null,
   "metadata": {},
   "outputs": [],
   "source": [
    "records.to_pickle('output/waze_12_features.pkl')\n",
    "incident_df.to_pickle('output/waze_12_labels.pkl')"
   ]
  },
  {
   "cell_type": "code",
   "execution_count": null,
   "metadata": {},
   "outputs": [],
   "source": []
  }
 ],
 "metadata": {
  "colab": {
   "authorship_tag": "ABX9TyMy89A/MRapVuhVle3XlUWH",
   "collapsed_sections": [],
   "name": "waze-join-etrims.ipynb",
   "provenance": []
  },
  "kernelspec": {
   "display_name": "Python 3",
   "language": "python",
   "name": "python3"
  },
  "language_info": {
   "codemirror_mode": {
    "name": "ipython",
    "version": 3
   },
   "file_extension": ".py",
   "mimetype": "text/x-python",
   "name": "python",
   "nbconvert_exporter": "python",
   "pygments_lexer": "ipython3",
   "version": "3.7.4"
  },
  "pycharm": {
   "stem_cell": {
    "cell_type": "raw",
    "source": [],
    "metadata": {
     "collapsed": false
    }
   }
  }
 },
 "nbformat": 4,
 "nbformat_minor": 1
}