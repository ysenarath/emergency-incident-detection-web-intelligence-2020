{
 "cells": [
  {
   "cell_type": "code",
   "execution_count": null,
   "metadata": {
    "colab": {},
    "colab_type": "code",
    "id": "Buh_IYXufVgd"
   },
   "outputs": [],
   "source": [
    "# !ln -s '/content/drive/My Drive/Research/Simulated Dispatch for Disasters/Waze-Data-Processing/data' 'data'"
   ]
  },
  {
   "cell_type": "code",
   "execution_count": 1,
   "metadata": {
    "colab": {},
    "colab_type": "code",
    "id": "UmmwD6LCnowf"
   },
   "outputs": [],
   "source": [
    "# !ln -s '/content/drive/My Drive/Research/Simulated Dispatch for Disasters/Waze-Data-Processing/output' 'output'"
   ]
  },
  {
   "cell_type": "code",
   "execution_count": 1,
   "metadata": {
    "colab": {},
    "colab_type": "code",
    "id": "laSW-ftuhWHX"
   },
   "outputs": [],
   "source": [
    "import os\n",
    "import json\n",
    "import codecs\n",
    "from tqdm import tqdm\n",
    "import pandas as pd"
   ]
  },
  {
   "cell_type": "code",
   "execution_count": 2,
   "metadata": {
    "colab": {
     "base_uri": "https://localhost:8080/",
     "height": 34
    },
    "colab_type": "code",
    "id": "wyuihgGFizVS",
    "outputId": "3ac9f744-b4da-4ee1-be5c-fab1728a3aa3"
   },
   "outputs": [
    {
     "name": "stderr",
     "output_type": "stream",
     "text": [
      "100%|██████████| 31/31 [02:13<00:00,  4.32s/it]\n"
     ]
    }
   ],
   "source": [
    "data = []\n",
    "errors = []\n",
    "for day in tqdm(os.listdir('data/12')):\n",
    "    for hr in os.listdir('data/12/' + day):\n",
    "        try:\n",
    "            var = json.load(codecs.open(f'data/12/{day}/{hr}', 'r', 'utf-8-sig'))\n",
    "            data.append(var)\n",
    "        except:\n",
    "            errors.append({'day': day, 'hr': hr})"
   ]
  },
  {
   "cell_type": "code",
   "execution_count": 6,
   "metadata": {},
   "outputs": [
    {
     "data": {
      "text/plain": [
       "22289"
      ]
     },
     "execution_count": 6,
     "metadata": {},
     "output_type": "execute_result"
    }
   ],
   "source": [
    "len(data)"
   ]
  },
  {
   "cell_type": "code",
   "execution_count": 7,
   "metadata": {
    "colab": {},
    "colab_type": "code",
    "id": "tYeiMnASjnnG"
   },
   "outputs": [
    {
     "name": "stderr",
     "output_type": "stream",
     "text": [
      "100%|██████████| 22289/22289 [00:07<00:00, 2948.41it/s]\n"
     ]
    }
   ],
   "source": [
    "accidents = []\n",
    "for alerts in tqdm(data):\n",
    "    for alert in alerts['alerts']:\n",
    "        if alert['type'] == 'ACCIDENT':\n",
    "            alert['lng'] = alert['location']['x']\n",
    "            alert['lat'] = alert['location']['y']\n",
    "            accidents += [alert]"
   ]
  },
  {
   "cell_type": "code",
   "execution_count": 14,
   "metadata": {},
   "outputs": [
    {
     "data": {
      "text/html": [
       "<div>\n",
       "<style scoped>\n",
       "    .dataframe tbody tr th:only-of-type {\n",
       "        vertical-align: middle;\n",
       "    }\n",
       "\n",
       "    .dataframe tbody tr th {\n",
       "        vertical-align: top;\n",
       "    }\n",
       "\n",
       "    .dataframe thead th {\n",
       "        text-align: right;\n",
       "    }\n",
       "</style>\n",
       "<table border=\"1\" class=\"dataframe\">\n",
       "  <thead>\n",
       "    <tr style=\"text-align: right;\">\n",
       "      <th></th>\n",
       "      <th>country</th>\n",
       "      <th>nThumbsUp</th>\n",
       "      <th>city</th>\n",
       "      <th>reportRating</th>\n",
       "      <th>confidence</th>\n",
       "      <th>reliability</th>\n",
       "      <th>type</th>\n",
       "      <th>uuid</th>\n",
       "      <th>roadType</th>\n",
       "      <th>magvar</th>\n",
       "      <th>subtype</th>\n",
       "      <th>street</th>\n",
       "      <th>pubMillis</th>\n",
       "      <th>lng</th>\n",
       "      <th>lat</th>\n",
       "      <th>reportDescription</th>\n",
       "    </tr>\n",
       "  </thead>\n",
       "  <tbody>\n",
       "    <tr>\n",
       "      <td>0</td>\n",
       "      <td>US</td>\n",
       "      <td>0</td>\n",
       "      <td>Nashville, TN</td>\n",
       "      <td>3</td>\n",
       "      <td>1</td>\n",
       "      <td>7</td>\n",
       "      <td>ACCIDENT</td>\n",
       "      <td>5a9e667f-3bda-3224-9662-e5a7e455f94f</td>\n",
       "      <td>3.0</td>\n",
       "      <td>233</td>\n",
       "      <td></td>\n",
       "      <td>I-40 W</td>\n",
       "      <td>1575340901000</td>\n",
       "      <td>-86.636268</td>\n",
       "      <td>36.151548</td>\n",
       "      <td>NaN</td>\n",
       "    </tr>\n",
       "    <tr>\n",
       "      <td>1</td>\n",
       "      <td>US</td>\n",
       "      <td>0</td>\n",
       "      <td>Goodlettsville, TN</td>\n",
       "      <td>1</td>\n",
       "      <td>0</td>\n",
       "      <td>5</td>\n",
       "      <td>ACCIDENT</td>\n",
       "      <td>03913aca-5045-3a89-94c7-378159603e8b</td>\n",
       "      <td>3.0</td>\n",
       "      <td>56</td>\n",
       "      <td>ACCIDENT_MINOR</td>\n",
       "      <td>Vietnam Veterans Blvd</td>\n",
       "      <td>1575337336000</td>\n",
       "      <td>-86.706220</td>\n",
       "      <td>36.304490</td>\n",
       "      <td>NaN</td>\n",
       "    </tr>\n",
       "    <tr>\n",
       "      <td>2</td>\n",
       "      <td>US</td>\n",
       "      <td>0</td>\n",
       "      <td>Nashville, TN</td>\n",
       "      <td>1</td>\n",
       "      <td>0</td>\n",
       "      <td>5</td>\n",
       "      <td>ACCIDENT</td>\n",
       "      <td>94be551e-412f-3961-b1ef-490cf22fee40</td>\n",
       "      <td>4.0</td>\n",
       "      <td>153</td>\n",
       "      <td></td>\n",
       "      <td>to I-24 E / Chattanooga</td>\n",
       "      <td>1575384564000</td>\n",
       "      <td>-86.698586</td>\n",
       "      <td>36.083495</td>\n",
       "      <td>NaN</td>\n",
       "    </tr>\n",
       "    <tr>\n",
       "      <td>3</td>\n",
       "      <td>US</td>\n",
       "      <td>0</td>\n",
       "      <td>Nashville, TN</td>\n",
       "      <td>2</td>\n",
       "      <td>1</td>\n",
       "      <td>7</td>\n",
       "      <td>ACCIDENT</td>\n",
       "      <td>4707613e-1798-3052-bb7b-74a6647311e4</td>\n",
       "      <td>6.0</td>\n",
       "      <td>151</td>\n",
       "      <td>ACCIDENT_MAJOR</td>\n",
       "      <td>Old Hickory Blvd</td>\n",
       "      <td>1575383199000</td>\n",
       "      <td>-86.603257</td>\n",
       "      <td>36.175815</td>\n",
       "      <td>NaN</td>\n",
       "    </tr>\n",
       "    <tr>\n",
       "      <td>4</td>\n",
       "      <td>US</td>\n",
       "      <td>0</td>\n",
       "      <td>Nashville, TN</td>\n",
       "      <td>2</td>\n",
       "      <td>5</td>\n",
       "      <td>10</td>\n",
       "      <td>ACCIDENT</td>\n",
       "      <td>daf0a810-a07a-34d2-bc41-1a18168ee48f</td>\n",
       "      <td>3.0</td>\n",
       "      <td>333</td>\n",
       "      <td></td>\n",
       "      <td>I-65 N</td>\n",
       "      <td>1575384364000</td>\n",
       "      <td>-86.771595</td>\n",
       "      <td>36.111977</td>\n",
       "      <td>NaN</td>\n",
       "    </tr>\n",
       "  </tbody>\n",
       "</table>\n",
       "</div>"
      ],
      "text/plain": [
       "  country  nThumbsUp                city  reportRating  confidence  \\\n",
       "0      US          0       Nashville, TN             3           1   \n",
       "1      US          0  Goodlettsville, TN             1           0   \n",
       "2      US          0       Nashville, TN             1           0   \n",
       "3      US          0       Nashville, TN             2           1   \n",
       "4      US          0       Nashville, TN             2           5   \n",
       "\n",
       "   reliability      type                                  uuid  roadType  \\\n",
       "0            7  ACCIDENT  5a9e667f-3bda-3224-9662-e5a7e455f94f       3.0   \n",
       "1            5  ACCIDENT  03913aca-5045-3a89-94c7-378159603e8b       3.0   \n",
       "2            5  ACCIDENT  94be551e-412f-3961-b1ef-490cf22fee40       4.0   \n",
       "3            7  ACCIDENT  4707613e-1798-3052-bb7b-74a6647311e4       6.0   \n",
       "4           10  ACCIDENT  daf0a810-a07a-34d2-bc41-1a18168ee48f       3.0   \n",
       "\n",
       "   magvar         subtype                   street      pubMillis        lng  \\\n",
       "0     233                                   I-40 W  1575340901000 -86.636268   \n",
       "1      56  ACCIDENT_MINOR    Vietnam Veterans Blvd  1575337336000 -86.706220   \n",
       "2     153                  to I-24 E / Chattanooga  1575384564000 -86.698586   \n",
       "3     151  ACCIDENT_MAJOR         Old Hickory Blvd  1575383199000 -86.603257   \n",
       "4     333                                   I-65 N  1575384364000 -86.771595   \n",
       "\n",
       "         lat reportDescription  \n",
       "0  36.151548               NaN  \n",
       "1  36.304490               NaN  \n",
       "2  36.083495               NaN  \n",
       "3  36.175815               NaN  \n",
       "4  36.111977               NaN  "
      ]
     },
     "execution_count": 14,
     "metadata": {},
     "output_type": "execute_result"
    }
   ],
   "source": [
    "accident_df = pd.DataFrame.from_dict(accidents)\n",
    "accident_df.drop('location', axis=1, inplace=True)\n",
    "accident_df = accident_df.drop_duplicates()\n",
    "accident_df.head()"
   ]
  },
  {
   "cell_type": "code",
   "execution_count": null,
   "metadata": {
    "colab": {},
    "colab_type": "code",
    "id": "hea5r0EYks4Q"
   },
   "outputs": [],
   "source": [
    "accident_df.shape"
   ]
  },
  {
   "cell_type": "code",
   "execution_count": null,
   "metadata": {
    "colab": {},
    "colab_type": "code",
    "id": "kqtPHPZNlgmU"
   },
   "outputs": [],
   "source": [
    "accident_df.head()"
   ]
  },
  {
   "cell_type": "code",
   "execution_count": null,
   "metadata": {
    "colab": {},
    "colab_type": "code",
    "id": "H3Z7oQiunWAx",
    "scrolled": true
   },
   "outputs": [],
   "source": [
    "accident_df.to_csv('/output/waze_12_raw.csv')"
   ]
  },
  {
   "cell_type": "code",
   "execution_count": null,
   "metadata": {
    "colab": {},
    "colab_type": "code",
    "id": "oY0E709_o32z"
   },
   "outputs": [],
   "source": []
  }
 ],
 "metadata": {
  "colab": {
   "authorship_tag": "ABX9TyPjijDMcme6hkWfTYdRyowP",
   "collapsed_sections": [],
   "mount_file_id": "1CUs-Eq0kStL4lxXcTSEK85kEk6ejYKs8",
   "name": "waze-data-preprocess.ipynb",
   "provenance": []
  },
  "kernelspec": {
   "display_name": "Python 3",
   "language": "python",
   "name": "python3"
  },
  "language_info": {
   "codemirror_mode": {
    "name": "ipython",
    "version": 3
   },
   "file_extension": ".py",
   "mimetype": "text/x-python",
   "name": "python",
   "nbconvert_exporter": "python",
   "pygments_lexer": "ipython3",
   "version": "3.7.4"
  }
 },
 "nbformat": 4,
 "nbformat_minor": 1
}
