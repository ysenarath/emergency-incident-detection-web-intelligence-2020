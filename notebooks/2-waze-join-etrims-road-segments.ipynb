{
 "cells": [
  {
   "cell_type": "code",
   "execution_count": 1,
   "metadata": {
    "colab": {},
    "colab_type": "code",
    "id": "3GOGCHrr0s5L"
   },
   "outputs": [],
   "source": [
    "# https://vanderbilt365-my.sharepoint.com/:u:/g/personal/abhishek_dubey_vanderbilt_edu/EcagKoRLKNBIjsHpkdO41J4BETM5sdDoXqbblCeRBtLPYw?e=5WSUE6"
   ]
  },
  {
   "cell_type": "code",
   "execution_count": 2,
   "metadata": {},
   "outputs": [],
   "source": [
    "PROJECT_PATH = '.'"
   ]
  },
  {
   "cell_type": "code",
   "execution_count": 3,
   "metadata": {},
   "outputs": [
    {
     "name": "stderr",
     "output_type": "stream",
     "text": [
      "/opt/anaconda3/lib/python3.7/site-packages/tqdm/std.py:668: FutureWarning: The Panel class is removed from pandas. Accessing it from the top-level namespace will also be removed in the next version\n",
      "  from pandas import Panel\n"
     ]
    }
   ],
   "source": [
    "import json\n",
    "import numpy as np\n",
    "import pandas as pd\n",
    "from tqdm import tqdm\n",
    "\n",
    "from shapely.geometry import *\n",
    "\n",
    "tqdm.pandas(desc='Progress: ')"
   ]
  },
  {
   "cell_type": "code",
   "execution_count": 4,
   "metadata": {},
   "outputs": [],
   "source": [
    "etrims_unit_segments_v3 = json.load(open('./resources/Etrims_Unit_Segments_v3.json'))"
   ]
  },
  {
   "cell_type": "code",
   "execution_count": 5,
   "metadata": {},
   "outputs": [
    {
     "data": {
      "text/plain": [
       "2960"
      ]
     },
     "execution_count": 5,
     "metadata": {},
     "output_type": "execute_result"
    }
   ],
   "source": [
    "shp_list = [{'seg_id': x['properties']['seg_id'], 'line': LineString(x['geometry']['coordinates'])} for x in etrims_unit_segments_v3['features']]\n",
    "\n",
    "len(shp_list)"
   ]
  },
  {
   "cell_type": "code",
   "execution_count": 6,
   "metadata": {},
   "outputs": [],
   "source": [
    "df = pd.read_csv(f'{PROJECT_PATH}/output/waze_12_raw.csv', index_col=0)"
   ]
  },
  {
   "cell_type": "code",
   "execution_count": 7,
   "metadata": {},
   "outputs": [
    {
     "data": {
      "text/html": [
       "<div>\n",
       "<style scoped>\n",
       "    .dataframe tbody tr th:only-of-type {\n",
       "        vertical-align: middle;\n",
       "    }\n",
       "\n",
       "    .dataframe tbody tr th {\n",
       "        vertical-align: top;\n",
       "    }\n",
       "\n",
       "    .dataframe thead th {\n",
       "        text-align: right;\n",
       "    }\n",
       "</style>\n",
       "<table border=\"1\" class=\"dataframe\">\n",
       "  <thead>\n",
       "    <tr style=\"text-align: right;\">\n",
       "      <th></th>\n",
       "      <th>country</th>\n",
       "      <th>nThumbsUp</th>\n",
       "      <th>city</th>\n",
       "      <th>reportRating</th>\n",
       "      <th>confidence</th>\n",
       "      <th>reliability</th>\n",
       "      <th>type</th>\n",
       "      <th>uuid</th>\n",
       "      <th>roadType</th>\n",
       "      <th>magvar</th>\n",
       "      <th>subtype</th>\n",
       "      <th>street</th>\n",
       "      <th>pubMillis</th>\n",
       "      <th>lng</th>\n",
       "      <th>lat</th>\n",
       "      <th>reportDescription</th>\n",
       "    </tr>\n",
       "  </thead>\n",
       "  <tbody>\n",
       "    <tr>\n",
       "      <td>0</td>\n",
       "      <td>US</td>\n",
       "      <td>0</td>\n",
       "      <td>Nashville, TN</td>\n",
       "      <td>3</td>\n",
       "      <td>1</td>\n",
       "      <td>7</td>\n",
       "      <td>ACCIDENT</td>\n",
       "      <td>5a9e667f-3bda-3224-9662-e5a7e455f94f</td>\n",
       "      <td>3.0</td>\n",
       "      <td>233</td>\n",
       "      <td>NaN</td>\n",
       "      <td>I-40 W</td>\n",
       "      <td>1575340901000</td>\n",
       "      <td>-86.636268</td>\n",
       "      <td>36.151548</td>\n",
       "      <td>NaN</td>\n",
       "    </tr>\n",
       "    <tr>\n",
       "      <td>1</td>\n",
       "      <td>US</td>\n",
       "      <td>0</td>\n",
       "      <td>Goodlettsville, TN</td>\n",
       "      <td>1</td>\n",
       "      <td>0</td>\n",
       "      <td>5</td>\n",
       "      <td>ACCIDENT</td>\n",
       "      <td>03913aca-5045-3a89-94c7-378159603e8b</td>\n",
       "      <td>3.0</td>\n",
       "      <td>56</td>\n",
       "      <td>ACCIDENT_MINOR</td>\n",
       "      <td>Vietnam Veterans Blvd</td>\n",
       "      <td>1575337336000</td>\n",
       "      <td>-86.706220</td>\n",
       "      <td>36.304490</td>\n",
       "      <td>NaN</td>\n",
       "    </tr>\n",
       "    <tr>\n",
       "      <td>2</td>\n",
       "      <td>US</td>\n",
       "      <td>0</td>\n",
       "      <td>Nashville, TN</td>\n",
       "      <td>1</td>\n",
       "      <td>0</td>\n",
       "      <td>5</td>\n",
       "      <td>ACCIDENT</td>\n",
       "      <td>94be551e-412f-3961-b1ef-490cf22fee40</td>\n",
       "      <td>4.0</td>\n",
       "      <td>153</td>\n",
       "      <td>NaN</td>\n",
       "      <td>to I-24 E / Chattanooga</td>\n",
       "      <td>1575384564000</td>\n",
       "      <td>-86.698586</td>\n",
       "      <td>36.083495</td>\n",
       "      <td>NaN</td>\n",
       "    </tr>\n",
       "    <tr>\n",
       "      <td>3</td>\n",
       "      <td>US</td>\n",
       "      <td>0</td>\n",
       "      <td>Nashville, TN</td>\n",
       "      <td>2</td>\n",
       "      <td>1</td>\n",
       "      <td>7</td>\n",
       "      <td>ACCIDENT</td>\n",
       "      <td>4707613e-1798-3052-bb7b-74a6647311e4</td>\n",
       "      <td>6.0</td>\n",
       "      <td>151</td>\n",
       "      <td>ACCIDENT_MAJOR</td>\n",
       "      <td>Old Hickory Blvd</td>\n",
       "      <td>1575383199000</td>\n",
       "      <td>-86.603257</td>\n",
       "      <td>36.175815</td>\n",
       "      <td>NaN</td>\n",
       "    </tr>\n",
       "    <tr>\n",
       "      <td>4</td>\n",
       "      <td>US</td>\n",
       "      <td>0</td>\n",
       "      <td>Nashville, TN</td>\n",
       "      <td>2</td>\n",
       "      <td>5</td>\n",
       "      <td>10</td>\n",
       "      <td>ACCIDENT</td>\n",
       "      <td>daf0a810-a07a-34d2-bc41-1a18168ee48f</td>\n",
       "      <td>3.0</td>\n",
       "      <td>333</td>\n",
       "      <td>NaN</td>\n",
       "      <td>I-65 N</td>\n",
       "      <td>1575384364000</td>\n",
       "      <td>-86.771595</td>\n",
       "      <td>36.111977</td>\n",
       "      <td>NaN</td>\n",
       "    </tr>\n",
       "  </tbody>\n",
       "</table>\n",
       "</div>"
      ],
      "text/plain": [
       "  country  nThumbsUp                city  reportRating  confidence  \\\n",
       "0      US          0       Nashville, TN             3           1   \n",
       "1      US          0  Goodlettsville, TN             1           0   \n",
       "2      US          0       Nashville, TN             1           0   \n",
       "3      US          0       Nashville, TN             2           1   \n",
       "4      US          0       Nashville, TN             2           5   \n",
       "\n",
       "   reliability      type                                  uuid  roadType  \\\n",
       "0            7  ACCIDENT  5a9e667f-3bda-3224-9662-e5a7e455f94f       3.0   \n",
       "1            5  ACCIDENT  03913aca-5045-3a89-94c7-378159603e8b       3.0   \n",
       "2            5  ACCIDENT  94be551e-412f-3961-b1ef-490cf22fee40       4.0   \n",
       "3            7  ACCIDENT  4707613e-1798-3052-bb7b-74a6647311e4       6.0   \n",
       "4           10  ACCIDENT  daf0a810-a07a-34d2-bc41-1a18168ee48f       3.0   \n",
       "\n",
       "   magvar         subtype                   street      pubMillis        lng  \\\n",
       "0     233             NaN                   I-40 W  1575340901000 -86.636268   \n",
       "1      56  ACCIDENT_MINOR    Vietnam Veterans Blvd  1575337336000 -86.706220   \n",
       "2     153             NaN  to I-24 E / Chattanooga  1575384564000 -86.698586   \n",
       "3     151  ACCIDENT_MAJOR         Old Hickory Blvd  1575383199000 -86.603257   \n",
       "4     333             NaN                   I-65 N  1575384364000 -86.771595   \n",
       "\n",
       "         lat  reportDescription  \n",
       "0  36.151548                NaN  \n",
       "1  36.304490                NaN  \n",
       "2  36.083495                NaN  \n",
       "3  36.175815                NaN  \n",
       "4  36.111977                NaN  "
      ]
     },
     "execution_count": 7,
     "metadata": {},
     "output_type": "execute_result"
    }
   ],
   "source": [
    "df.head()"
   ]
  },
  {
   "cell_type": "code",
   "execution_count": 8,
   "metadata": {},
   "outputs": [
    {
     "name": "stderr",
     "output_type": "stream",
     "text": [
      "Progress: 100%|██████████| 9897/9897 [00:00<00:00, 22661.39it/s]\n"
     ]
    },
    {
     "data": {
      "text/plain": [
       "0            POINT (-86.636268 36.151548)\n",
       "1              POINT (-86.70622 36.30449)\n",
       "2    POINT (-86.69858599999999 36.083495)\n",
       "3            POINT (-86.603257 36.175815)\n",
       "4    POINT (-86.77159499999999 36.111977)\n",
       "dtype: object"
      ]
     },
     "execution_count": 8,
     "metadata": {},
     "output_type": "execute_result"
    }
   ],
   "source": [
    "points = df.progress_apply(lambda pt: Point(pt.lng, pt.lat), axis=1)\n",
    "\n",
    "points.head()"
   ]
  },
  {
   "cell_type": "code",
   "execution_count": 9,
   "metadata": {},
   "outputs": [],
   "source": [
    "def calc_dist(pt):\n",
    "    return [x['line'].distance(pt) for x in shp_list]"
   ]
  },
  {
   "cell_type": "code",
   "execution_count": 10,
   "metadata": {},
   "outputs": [],
   "source": [
    "# Yasas has generated this file, pls ask if required.\n",
    "try:\n",
    "    dist_matrix = np.load(f'{PROJECT_PATH}/output/waze_12_etrims_dist_matrix.npy')\n",
    "except:\n",
    "    dist_ = points.progress_apply(calc_dist)\n",
    "    dist_matrix = np.array(dist_.values.tolist())\n",
    "    np.save(f'{PROJECT_PATH}/output/waze_12_etrims_dist_matrix.npy', dist_matrix)"
   ]
  },
  {
   "cell_type": "code",
   "execution_count": 13,
   "metadata": {
    "scrolled": true
   },
   "outputs": [
    {
     "name": "stdout",
     "output_type": "stream",
     "text": [
      "Unique Road Segments: 399\n"
     ]
    },
    {
     "data": {
      "text/html": [
       "<div>\n",
       "<style scoped>\n",
       "    .dataframe tbody tr th:only-of-type {\n",
       "        vertical-align: middle;\n",
       "    }\n",
       "\n",
       "    .dataframe tbody tr th {\n",
       "        vertical-align: top;\n",
       "    }\n",
       "\n",
       "    .dataframe thead th {\n",
       "        text-align: right;\n",
       "    }\n",
       "</style>\n",
       "<table border=\"1\" class=\"dataframe\">\n",
       "  <thead>\n",
       "    <tr style=\"text-align: right;\">\n",
       "      <th></th>\n",
       "      <th>country</th>\n",
       "      <th>nThumbsUp</th>\n",
       "      <th>city</th>\n",
       "      <th>reportRating</th>\n",
       "      <th>confidence</th>\n",
       "      <th>reliability</th>\n",
       "      <th>type</th>\n",
       "      <th>uuid</th>\n",
       "      <th>roadType</th>\n",
       "      <th>magvar</th>\n",
       "      <th>subtype</th>\n",
       "      <th>street</th>\n",
       "      <th>pubMillis</th>\n",
       "      <th>lng</th>\n",
       "      <th>lat</th>\n",
       "      <th>reportDescription</th>\n",
       "      <th>seg_id</th>\n",
       "      <th>seg_id_dist</th>\n",
       "    </tr>\n",
       "  </thead>\n",
       "  <tbody>\n",
       "    <tr>\n",
       "      <td>0</td>\n",
       "      <td>US</td>\n",
       "      <td>0</td>\n",
       "      <td>Nashville, TN</td>\n",
       "      <td>3</td>\n",
       "      <td>1</td>\n",
       "      <td>7</td>\n",
       "      <td>ACCIDENT</td>\n",
       "      <td>5a9e667f-3bda-3224-9662-e5a7e455f94f</td>\n",
       "      <td>3.0</td>\n",
       "      <td>233</td>\n",
       "      <td>NaN</td>\n",
       "      <td>I-40 W</td>\n",
       "      <td>1575340901000</td>\n",
       "      <td>-86.636268</td>\n",
       "      <td>36.151548</td>\n",
       "      <td>NaN</td>\n",
       "      <td>929</td>\n",
       "      <td>0.000254</td>\n",
       "    </tr>\n",
       "    <tr>\n",
       "      <td>1</td>\n",
       "      <td>US</td>\n",
       "      <td>0</td>\n",
       "      <td>Goodlettsville, TN</td>\n",
       "      <td>1</td>\n",
       "      <td>0</td>\n",
       "      <td>5</td>\n",
       "      <td>ACCIDENT</td>\n",
       "      <td>03913aca-5045-3a89-94c7-378159603e8b</td>\n",
       "      <td>3.0</td>\n",
       "      <td>56</td>\n",
       "      <td>ACCIDENT_MINOR</td>\n",
       "      <td>Vietnam Veterans Blvd</td>\n",
       "      <td>1575337336000</td>\n",
       "      <td>-86.706220</td>\n",
       "      <td>36.304490</td>\n",
       "      <td>NaN</td>\n",
       "      <td>1959</td>\n",
       "      <td>0.001020</td>\n",
       "    </tr>\n",
       "    <tr>\n",
       "      <td>2</td>\n",
       "      <td>US</td>\n",
       "      <td>0</td>\n",
       "      <td>Nashville, TN</td>\n",
       "      <td>1</td>\n",
       "      <td>0</td>\n",
       "      <td>5</td>\n",
       "      <td>ACCIDENT</td>\n",
       "      <td>94be551e-412f-3961-b1ef-490cf22fee40</td>\n",
       "      <td>4.0</td>\n",
       "      <td>153</td>\n",
       "      <td>NaN</td>\n",
       "      <td>to I-24 E / Chattanooga</td>\n",
       "      <td>1575384564000</td>\n",
       "      <td>-86.698586</td>\n",
       "      <td>36.083495</td>\n",
       "      <td>NaN</td>\n",
       "      <td>167</td>\n",
       "      <td>0.000021</td>\n",
       "    </tr>\n",
       "    <tr>\n",
       "      <td>3</td>\n",
       "      <td>US</td>\n",
       "      <td>0</td>\n",
       "      <td>Nashville, TN</td>\n",
       "      <td>2</td>\n",
       "      <td>1</td>\n",
       "      <td>7</td>\n",
       "      <td>ACCIDENT</td>\n",
       "      <td>4707613e-1798-3052-bb7b-74a6647311e4</td>\n",
       "      <td>6.0</td>\n",
       "      <td>151</td>\n",
       "      <td>ACCIDENT_MAJOR</td>\n",
       "      <td>Old Hickory Blvd</td>\n",
       "      <td>1575383199000</td>\n",
       "      <td>-86.603257</td>\n",
       "      <td>36.175815</td>\n",
       "      <td>NaN</td>\n",
       "      <td>942</td>\n",
       "      <td>0.005940</td>\n",
       "    </tr>\n",
       "    <tr>\n",
       "      <td>4</td>\n",
       "      <td>US</td>\n",
       "      <td>0</td>\n",
       "      <td>Nashville, TN</td>\n",
       "      <td>2</td>\n",
       "      <td>5</td>\n",
       "      <td>10</td>\n",
       "      <td>ACCIDENT</td>\n",
       "      <td>daf0a810-a07a-34d2-bc41-1a18168ee48f</td>\n",
       "      <td>3.0</td>\n",
       "      <td>333</td>\n",
       "      <td>NaN</td>\n",
       "      <td>I-65 N</td>\n",
       "      <td>1575384364000</td>\n",
       "      <td>-86.771595</td>\n",
       "      <td>36.111977</td>\n",
       "      <td>NaN</td>\n",
       "      <td>1883</td>\n",
       "      <td>0.000026</td>\n",
       "    </tr>\n",
       "  </tbody>\n",
       "</table>\n",
       "</div>"
      ],
      "text/plain": [
       "  country  nThumbsUp                city  reportRating  confidence  \\\n",
       "0      US          0       Nashville, TN             3           1   \n",
       "1      US          0  Goodlettsville, TN             1           0   \n",
       "2      US          0       Nashville, TN             1           0   \n",
       "3      US          0       Nashville, TN             2           1   \n",
       "4      US          0       Nashville, TN             2           5   \n",
       "\n",
       "   reliability      type                                  uuid  roadType  \\\n",
       "0            7  ACCIDENT  5a9e667f-3bda-3224-9662-e5a7e455f94f       3.0   \n",
       "1            5  ACCIDENT  03913aca-5045-3a89-94c7-378159603e8b       3.0   \n",
       "2            5  ACCIDENT  94be551e-412f-3961-b1ef-490cf22fee40       4.0   \n",
       "3            7  ACCIDENT  4707613e-1798-3052-bb7b-74a6647311e4       6.0   \n",
       "4           10  ACCIDENT  daf0a810-a07a-34d2-bc41-1a18168ee48f       3.0   \n",
       "\n",
       "   magvar         subtype                   street      pubMillis        lng  \\\n",
       "0     233             NaN                   I-40 W  1575340901000 -86.636268   \n",
       "1      56  ACCIDENT_MINOR    Vietnam Veterans Blvd  1575337336000 -86.706220   \n",
       "2     153             NaN  to I-24 E / Chattanooga  1575384564000 -86.698586   \n",
       "3     151  ACCIDENT_MAJOR         Old Hickory Blvd  1575383199000 -86.603257   \n",
       "4     333             NaN                   I-65 N  1575384364000 -86.771595   \n",
       "\n",
       "         lat  reportDescription  seg_id  seg_id_dist  \n",
       "0  36.151548                NaN     929     0.000254  \n",
       "1  36.304490                NaN    1959     0.001020  \n",
       "2  36.083495                NaN     167     0.000021  \n",
       "3  36.175815                NaN     942     0.005940  \n",
       "4  36.111977                NaN    1883     0.000026  "
      ]
     },
     "execution_count": 13,
     "metadata": {},
     "output_type": "execute_result"
    }
   ],
   "source": [
    "df['seg_id'] = [shp_list[i]['seg_id'] for i in np.argmin(dist_matrix, axis=1)]\n",
    "\n",
    "df['seg_id_dist'] = np.min(dist_matrix, axis=1)\n",
    "\n",
    "print('Unique Road Segments: %d' % len(set(df['seg_id'])))\n",
    "\n",
    "df.head()"
   ]
  },
  {
   "cell_type": "code",
   "execution_count": 14,
   "metadata": {},
   "outputs": [],
   "source": [
    "shp_dict = {x['seg_id']: x['line'] for x in shp_list}"
   ]
  },
  {
   "cell_type": "code",
   "execution_count": null,
   "metadata": {},
   "outputs": [],
   "source": [
    "from shapely.ops import cascaded_union\n",
    "\n",
    "cascaded_union(MultiPoint(points[:100]))"
   ]
  },
  {
   "cell_type": "code",
   "execution_count": 27,
   "metadata": {},
   "outputs": [
    {
     "data": {
      "image/svg+xml": [
       "<svg xmlns=\"http://www.w3.org/2000/svg\" xmlns:xlink=\"http://www.w3.org/1999/xlink\" width=\"100.0\" height=\"100.0\" viewBox=\"-87.03184381477136 35.98345999647299 0.44705089987978397 0.38052184682565127\" preserveAspectRatio=\"xMinYMin meet\"><g transform=\"matrix(1,0,0,-1,0,72.34744183977162)\"><g><polyline fill=\"none\" stroke=\"#66cc99\" stroke-width=\"0.008941017997595679\" points=\"-86.64957190286762,36.14312280996384 -86.64863899331235,36.1435746892392\" opacity=\"0.8\" /><polyline fill=\"none\" stroke=\"#66cc99\" stroke-width=\"0.008941017997595679\" points=\"-86.64863899331235,36.1435746892392 -86.63516015486566,36.15193643174796\" opacity=\"0.8\" /><polyline fill=\"none\" stroke=\"#66cc99\" stroke-width=\"0.008941017997595679\" points=\"-86.70775713747616,36.30428145430532 -86.7068232655657,36.30534989025654\" opacity=\"0.8\" /><polyline fill=\"none\" stroke=\"#66cc99\" stroke-width=\"0.008941017997595679\" points=\"-86.6986862422249,36.08361767627413 -86.69171331550302,36.07223972395875\" opacity=\"0.8\" /><polyline fill=\"none\" stroke=\"#66cc99\" stroke-width=\"0.008941017997595679\" points=\"-86.60433085371837,36.16960051841737 -86.60415789831015,36.169644736910975\" opacity=\"0.8\" /><polyline fill=\"none\" stroke=\"#66cc99\" stroke-width=\"0.008941017997595679\" points=\"-86.60415789831015,36.169644736910975 -86.60183189348975,36.1700307374493\" opacity=\"0.8\" /><polyline fill=\"none\" stroke=\"#66cc99\" stroke-width=\"0.008941017997595679\" points=\"-86.60183189348975,36.1700307374493 -86.60135035562787,36.170073369350824\" opacity=\"0.8\" /><polyline fill=\"none\" stroke=\"#66cc99\" stroke-width=\"0.008941017997595679\" points=\"-86.77115579853773,36.11127793401767 -86.77207655853537,36.112849262987446\" opacity=\"0.8\" /><polyline fill=\"none\" stroke=\"#66cc99\" stroke-width=\"0.008941017997595679\" points=\"-86.70023618460131,36.086073331074864 -86.69946210611553,36.084883576945614\" opacity=\"0.8\" /><polyline fill=\"none\" stroke=\"#66cc99\" stroke-width=\"0.008941017997595679\" points=\"-86.69946210611553,36.084883576945614 -86.6986862422249,36.08361767627413\" opacity=\"0.8\" /><polyline fill=\"none\" stroke=\"#66cc99\" stroke-width=\"0.008941017997595679\" points=\"-86.81553529633534,36.167698422198576 -86.81517833056066,36.16796575433399\" opacity=\"0.8\" /><polyline fill=\"none\" stroke=\"#66cc99\" stroke-width=\"0.008941017997595679\" points=\"-86.81517833056066,36.16796575433399 -86.8136153272412,36.16877875580802\" opacity=\"0.8\" /><polyline fill=\"none\" stroke=\"#66cc99\" stroke-width=\"0.008941017997595679\" points=\"-86.8136153272412,36.16877875580802 -86.81273532539154,36.16910475637464\" opacity=\"0.8\" /><polyline fill=\"none\" stroke=\"#66cc99\" stroke-width=\"0.008941017997595679\" points=\"-86.81273532539154,36.16910475637464 -86.81187132358723,36.16934575677282\" opacity=\"0.8\" /><polyline fill=\"none\" stroke=\"#66cc99\" stroke-width=\"0.008941017997595679\" points=\"-86.81187132358723,36.16934575677282 -86.81102032182066,36.16951075702035\" opacity=\"0.8\" /><polyline fill=\"none\" stroke=\"#66cc99\" stroke-width=\"0.008941017997595679\" points=\"-86.81102032182066,36.16951075702035 -86.80742965940877,36.17001475986882\" opacity=\"0.8\" /><polyline fill=\"none\" stroke=\"#66cc99\" stroke-width=\"0.008941017997595679\" points=\"-86.77482595840472,36.2179155154274 -86.77481024049523,36.2180428505194 -86.77451423970145,36.219306853017194 -86.7741372387793,36.22031685499942\" opacity=\"0.8\" /><polyline fill=\"none\" stroke=\"#66cc99\" stroke-width=\"0.008941017997595679\" points=\"-86.72723413202878,36.13149280531572 -86.72727015606431,36.13129467246269\" opacity=\"0.8\" /><polyline fill=\"none\" stroke=\"#66cc99\" stroke-width=\"0.008941017997595679\" points=\"-86.72727015606431,36.13129467246269 -86.72752115931353,36.130655184130546\" opacity=\"0.8\" /><polyline fill=\"none\" stroke=\"#66cc99\" stroke-width=\"0.008941017997595679\" points=\"-87.01528637403507,36.07700378677703 -87.00899074026344,36.077133591173485\" opacity=\"0.8\" /><polyline fill=\"none\" stroke=\"#66cc99\" stroke-width=\"0.008941017997595679\" points=\"-87.00899074026344,36.077133591173485 -86.99214370569874,36.07790359113697\" opacity=\"0.8\" /><polyline fill=\"none\" stroke=\"#66cc99\" stroke-width=\"0.008941017997595679\" points=\"-86.99214370569874,36.07790359113697 -86.9904627022592,36.077914591001495\" opacity=\"0.8\" /><polyline fill=\"none\" stroke=\"#66cc99\" stroke-width=\"0.008941017997595679\" points=\"-86.9904627022592,36.077914591001495 -86.98928969987132,36.07783659073561\" opacity=\"0.8\" /><polyline fill=\"none\" stroke=\"#66cc99\" stroke-width=\"0.008941017997595679\" points=\"-86.98928969987132,36.07783659073561 -86.9881146974888,36.077691590335576\" opacity=\"0.8\" /><polyline fill=\"none\" stroke=\"#66cc99\" stroke-width=\"0.008941017997595679\" points=\"-86.9881146974888,36.077691590335576 -86.98595569313704,36.07724358923748\" opacity=\"0.8\" /><polyline fill=\"none\" stroke=\"#66cc99\" stroke-width=\"0.008941017997595679\" points=\"-86.98595569313704,36.07724358923748 -86.98462469047251,36.076838588302955\" opacity=\"0.8\" /><polyline fill=\"none\" stroke=\"#66cc99\" stroke-width=\"0.008941017997595679\" points=\"-86.98462469047251,36.076838588302955 -86.9779356771304,36.074467582935156\" opacity=\"0.8\" /><polyline fill=\"none\" stroke=\"#66cc99\" stroke-width=\"0.008941017997595679\" points=\"-86.9779356771304,36.074467582935156 -86.97710267546192,36.07422158236508\" opacity=\"0.8\" /><polyline fill=\"none\" stroke=\"#66cc99\" stroke-width=\"0.008941017997595679\" points=\"-86.97710267546192,36.07422158236508 -86.97611267346733,36.07401058185031\" opacity=\"0.8\" /><polyline fill=\"none\" stroke=\"#66cc99\" stroke-width=\"0.008941017997595679\" points=\"-86.97611267346733,36.07401058185031 -86.97458967037342,36.073865581417316\" opacity=\"0.8\" /><polyline fill=\"none\" stroke=\"#66cc99\" stroke-width=\"0.008941017997595679\" points=\"-86.97458967037342,36.073865581417316 -86.97296666704585,36.073924581382705\" opacity=\"0.8\" /><polyline fill=\"none\" stroke=\"#66cc99\" stroke-width=\"0.008941017997595679\" points=\"-86.97296666704585,36.073924581382705 -86.971222663435,36.0742345818385\" opacity=\"0.8\" /><polyline fill=\"none\" stroke=\"#66cc99\" stroke-width=\"0.008941017997595679\" points=\"-86.971222663435,36.0742345818385 -86.96967566019718,36.07475358273049\" opacity=\"0.8\" /><polyline fill=\"none\" stroke=\"#66cc99\" stroke-width=\"0.008941017997595679\" points=\"-86.96967566019718,36.07475358273049 -86.96829373305324,36.07541587967473\" opacity=\"0.8\" /><polyline fill=\"none\" stroke=\"#66cc99\" stroke-width=\"0.008941017997595679\" points=\"-86.79206867687147,36.15917063963716 -86.78993628055589,36.156638729245344\" opacity=\"0.8\" /><polyline fill=\"none\" stroke=\"#66cc99\" stroke-width=\"0.008941017997595679\" points=\"-86.78993628055589,36.156638729245344 -86.78989685229881,36.15657918281824\" opacity=\"0.8\" /><polyline fill=\"none\" stroke=\"#66cc99\" stroke-width=\"0.008941017997595679\" points=\"-86.66187227430109,36.046904353036254 -86.66085258350073,36.046314626197066\" opacity=\"0.8\" /><polyline fill=\"none\" stroke=\"#66cc99\" stroke-width=\"0.008941017997595679\" points=\"-86.64270549962959,36.03418823919383 -86.63411315901074,36.02649909539254\" opacity=\"0.8\" /><polyline fill=\"none\" stroke=\"#66cc99\" stroke-width=\"0.008941017997595679\" points=\"-86.61286694080066,36.0073554133453 -86.6072989301829,36.00236640281324 -86.60514292604348,36.000622399110384 -86.60426114258203,36.00001743720927\" opacity=\"0.8\" /><polyline fill=\"none\" stroke=\"#66cc99\" stroke-width=\"0.008941017997595679\" points=\"-86.76943723109339,36.071873618982416 -86.76921925056233,36.072785559599836\" opacity=\"0.8\" /><polyline fill=\"none\" stroke=\"#66cc99\" stroke-width=\"0.008941017997595679\" points=\"-86.76921925056233,36.072785559599836 -86.76884324962015,36.07395756190619\" opacity=\"0.8\" /><polyline fill=\"none\" stroke=\"#66cc99\" stroke-width=\"0.008941017997595679\" points=\"-86.76884324962015,36.07395756190619 -86.76841124860977,36.07481656358141\" opacity=\"0.8\" /><polyline fill=\"none\" stroke=\"#66cc99\" stroke-width=\"0.008941017997595679\" points=\"-86.76841124860977,36.07481656358141 -86.76833770237754,36.074922897484925\" opacity=\"0.8\" /><polyline fill=\"none\" stroke=\"#66cc99\" stroke-width=\"0.008941017997595679\" points=\"-86.77063474888375,36.11051767383356 -86.77089591508171,36.1108975350663\" opacity=\"0.8\" /><polyline fill=\"none\" stroke=\"#66cc99\" stroke-width=\"0.008941017997595679\" points=\"-86.76993835809867,36.10950472748094 -86.77063474888375,36.11051767383356\" opacity=\"0.8\" /><polyline fill=\"none\" stroke=\"#66cc99\" stroke-width=\"0.008941017997595679\" points=\"-86.77575746829837,36.13794422014774 -86.77581725431735,36.13864669190583\" opacity=\"0.8\" /><polyline fill=\"none\" stroke=\"#66cc99\" stroke-width=\"0.008941017997595679\" points=\"-86.77581725431735,36.13864669190583 -86.7760572546409,36.1397796941941\" opacity=\"0.8\" /><polyline fill=\"none\" stroke=\"#66cc99\" stroke-width=\"0.008941017997595679\" points=\"-86.7760572546409,36.1397796941941 -86.7766862555954,36.142028698751226\" opacity=\"0.8\" /><polyline fill=\"none\" stroke=\"#66cc99\" stroke-width=\"0.008941017997595679\" points=\"-86.7766862555954,36.142028698751226 -86.7769172558732,36.14334670140839\" opacity=\"0.8\" /><polyline fill=\"none\" stroke=\"#66cc99\" stroke-width=\"0.008941017997595679\" points=\"-86.7769172558732,36.14334670140839 -86.77694975827923,36.143689784211055\" opacity=\"0.8\" /><polyline fill=\"none\" stroke=\"#66cc99\" stroke-width=\"0.008941017997595679\" points=\"-86.71970411640613,36.29280899457466 -86.71406310416634,36.29729400298442 -86.71296710176235,36.29833700496137 -86.71128509802656,36.30024500860943\" opacity=\"0.8\" /><polyline fill=\"none\" stroke=\"#66cc99\" stroke-width=\"0.008941017997595679\" points=\"-86.82166634838369,36.13704469314894 -86.81931767256792,36.13346460075222\" opacity=\"0.8\" /><polyline fill=\"none\" stroke=\"#66cc99\" stroke-width=\"0.008941017997595679\" points=\"-86.742504946389,36.24826845464772 -86.74210816892334,36.24874890870439 -86.74081254075053,36.25065999534931\" opacity=\"0.8\" /><polyline fill=\"none\" stroke=\"#66cc99\" stroke-width=\"0.008941017997595679\" points=\"-86.75820622081352,36.12154965601066 -86.7568042179595,36.12145165567781\" opacity=\"0.8\" /><polyline fill=\"none\" stroke=\"#66cc99\" stroke-width=\"0.008941017997595679\" points=\"-86.7568042179595,36.12145165567781 -86.75594759877805,36.121521283863174\" opacity=\"0.8\" /><polyline fill=\"none\" stroke=\"#66cc99\" stroke-width=\"0.008941017997595679\" points=\"-86.75594759877805,36.121521283863174 -86.75546321519963,36.12156065576473\" opacity=\"0.8\" /><polyline fill=\"none\" stroke=\"#66cc99\" stroke-width=\"0.008941017997595679\" points=\"-86.75546321519963,36.12156065576473 -86.75441421301775,36.12180065614201\" opacity=\"0.8\" /><polyline fill=\"none\" stroke=\"#66cc99\" stroke-width=\"0.008941017997595679\" points=\"-86.75441421301775,36.12180065614201 -86.75428517027547,36.12184181031737\" opacity=\"0.8\" /><polyline fill=\"none\" stroke=\"#66cc99\" stroke-width=\"0.008941017997595679\" points=\"-86.78247889170345,36.039322792897096 -86.78222028178558,36.04133349798717\" opacity=\"0.8\" /><polyline fill=\"none\" stroke=\"#66cc99\" stroke-width=\"0.008941017997595679\" points=\"-86.78222028178558,36.04133349798717 -86.78221838000525,36.04134162284918\" opacity=\"0.8\" /><polyline fill=\"none\" stroke=\"#66cc99\" stroke-width=\"0.008941017997595679\" points=\"-86.75633986762342,36.23808709674155 -86.75633419966361,36.23808888878766 -86.7547301962744,36.2387778900081 -86.75298619255996,36.23972389172868 -86.7529690837716,36.2397351121744\" opacity=\"0.8\" /><polyline fill=\"none\" stroke=\"#66cc99\" stroke-width=\"0.008941017997595679\" points=\"-86.71457544898487,36.34351462874445 -86.71652094118079,36.34742440256235\" opacity=\"0.8\" /><polyline fill=\"none\" stroke=\"#66cc99\" stroke-width=\"0.008941017997595679\" points=\"-86.7202795778886,36.10762914202783 -86.72027914529272,36.10762862446553\" opacity=\"0.8\" /><polyline fill=\"none\" stroke=\"#66cc99\" stroke-width=\"0.008941017997595679\" points=\"-86.72027914529272,36.10762862446553 -86.7195271438712,36.10684662282831\" opacity=\"0.8\" /><polyline fill=\"none\" stroke=\"#66cc99\" stroke-width=\"0.008941017997595679\" points=\"-86.7195271438712,36.10684662282831 -86.71849814190514,36.105916620868\" opacity=\"0.8\" /><polyline fill=\"none\" stroke=\"#66cc99\" stroke-width=\"0.008941017997595679\" points=\"-86.71849814190514,36.105916620868 -86.71804165884579,36.105555878259665\" opacity=\"0.8\" /><polyline fill=\"none\" stroke=\"#66cc99\" stroke-width=\"0.008941017997595679\" points=\"-86.74892102269156,36.12348081633747 -86.74880020127644,36.12351565902165 -86.74683165804514,36.123838042342385\" opacity=\"0.8\" /><polyline fill=\"none\" stroke=\"#66cc99\" stroke-width=\"0.008941017997595679\" points=\"-86.90015623591515,36.128921417940276 -86.89930262772727,36.12984883284482\" opacity=\"0.8\" /><polyline fill=\"none\" stroke=\"#66cc99\" stroke-width=\"0.008941017997595679\" points=\"-86.6490647380469,36.03947790046818 -86.64810800804302,36.038871479871 -86.64781788030923,36.03865279821999\" opacity=\"0.8\" /><polyline fill=\"none\" stroke=\"#66cc99\" stroke-width=\"0.008941017997595679\" points=\"-86.73660319383644,36.14286304944439 -86.73369916772263,36.141339693174054\" opacity=\"0.8\" /><polyline fill=\"none\" stroke=\"#66cc99\" stroke-width=\"0.008941017997595679\" points=\"-86.73369916772263,36.141339693174054 -86.73275933053834,36.14095406441924\" opacity=\"0.8\" /><polyline fill=\"none\" stroke=\"#66cc99\" stroke-width=\"0.008941017997595679\" points=\"-86.72752115931353,36.130655184130546 -86.72813915817274,36.12908066812203\" opacity=\"0.8\" /><polyline fill=\"none\" stroke=\"#66cc99\" stroke-width=\"0.008941017997595679\" points=\"-86.72813915817274,36.12908066812203 -86.72830415860699,36.12843266684287\" opacity=\"0.8\" /><polyline fill=\"none\" stroke=\"#66cc99\" stroke-width=\"0.008941017997595679\" points=\"-86.72830415860699,36.12843266684287 -86.72834315879794,36.12768766535734\" opacity=\"0.8\" /><polyline fill=\"none\" stroke=\"#66cc99\" stroke-width=\"0.008941017997595679\" points=\"-86.72834315879794,36.12768766535734 -86.7282691589219,36.12584066165777\" opacity=\"0.8\" /><polyline fill=\"none\" stroke=\"#66cc99\" stroke-width=\"0.008941017997595679\" points=\"-86.7282691589219,36.12584066165777 -86.72808415877877,36.12426265848506\" opacity=\"0.8\" /><polyline fill=\"none\" stroke=\"#66cc99\" stroke-width=\"0.008941017997595679\" points=\"-86.72808415877877,36.12426265848506 -86.72786063669047,36.12336673568431\" opacity=\"0.8\" /><polyline fill=\"none\" stroke=\"#66cc99\" stroke-width=\"0.008941017997595679\" points=\"-86.66387068435169,36.14104864987147 -86.66173273370785,36.14090677316016\" opacity=\"0.8\" /><polyline fill=\"none\" stroke=\"#66cc99\" stroke-width=\"0.008941017997595679\" points=\"-86.63411315901074,36.02649909539254 -86.63158953449334,36.02424060287566\" opacity=\"0.8\" /><polyline fill=\"none\" stroke=\"#66cc99\" stroke-width=\"0.008941017997595679\" points=\"-86.77116997959435,36.17464389919734 -86.77060723842742,36.17393076193201\" opacity=\"0.8\" /><polyline fill=\"none\" stroke=\"#66cc99\" stroke-width=\"0.008941017997595679\" points=\"-86.77060723842742,36.17393076193201 -86.77030945378095,36.17362594338591\" opacity=\"0.8\" /><polyline fill=\"none\" stroke=\"#66cc99\" stroke-width=\"0.008941017997595679\" points=\"-86.73709967047907,36.266568655900485 -86.73645820057574,36.26971993292597\" opacity=\"0.8\" /><polyline fill=\"none\" stroke=\"#66cc99\" stroke-width=\"0.008941017997595679\" points=\"-86.76564186326489,36.07816464157992 -86.76507624119863,36.078813571246805 -86.76450523989817,36.0797105729844 -86.76408123889047,36.08066057484221 -86.76370823790447,36.08216857782061 -86.7636613023759,36.08245266063274\" opacity=\"0.8\" /><polyline fill=\"none\" stroke=\"#66cc99\" stroke-width=\"0.008941017997595679\" points=\"-86.77330300923683,36.17783267018775 -86.77310824302721,36.17744576920206 -86.77268767820945,36.17678349638263\" opacity=\"0.8\" /><polyline fill=\"none\" stroke=\"#66cc99\" stroke-width=\"0.008941017997595679\" points=\"-86.66672128521007,36.1412378184208 -86.66422700945897,36.141072295965024\" opacity=\"0.8\" /><polyline fill=\"none\" stroke=\"#66cc99\" stroke-width=\"0.008941017997595679\" points=\"-86.80683524782528,36.12303783500726 -86.80598131838762,36.12275066305744\" opacity=\"0.8\" /><polyline fill=\"none\" stroke=\"#66cc99\" stroke-width=\"0.008941017997595679\" points=\"-86.80598131838762,36.12275066305744 -86.80535131714039,36.122466662428636\" opacity=\"0.8\" /><polyline fill=\"none\" stroke=\"#66cc99\" stroke-width=\"0.008941017997595679\" points=\"-86.80535131714039,36.122466662428636 -86.80468831584061,36.12208066159277\" opacity=\"0.8\" /><polyline fill=\"none\" stroke=\"#66cc99\" stroke-width=\"0.008941017997595679\" points=\"-86.80468831584061,36.12208066159277 -86.80407531465157,36.12163766064779\" opacity=\"0.8\" /><polyline fill=\"none\" stroke=\"#66cc99\" stroke-width=\"0.008941017997595679\" points=\"-86.80407531465157,36.12163766064779 -86.80325131308133,36.1208506589947\" opacity=\"0.8\" /><polyline fill=\"none\" stroke=\"#66cc99\" stroke-width=\"0.008941017997595679\" points=\"-86.80325131308133,36.1208506589947 -86.80276479066416,36.120287141772536\" opacity=\"0.8\" /><polyline fill=\"none\" stroke=\"#66cc99\" stroke-width=\"0.008941017997595679\" points=\"-86.7484989163105,36.14999458422912 -86.74642210076264,36.148827309374155\" opacity=\"0.8\" /><polyline fill=\"none\" stroke=\"#66cc99\" stroke-width=\"0.008941017997595679\" points=\"-86.74524582022025,36.124018901376374 -86.74438019214529,36.12410365976461 -86.73867018043836,36.124308659647376 -86.73668617634186,36.12451265982866 -86.73478517239907,36.124869660355955 -86.73355568606,36.12517473458603\" opacity=\"0.8\" /><polyline fill=\"none\" stroke=\"#66cc99\" stroke-width=\"0.008941017997595679\" points=\"-86.77577162141698,36.21025405890745 -86.77482595840472,36.2179155154274\" opacity=\"0.8\" /><polyline fill=\"none\" stroke=\"#66cc99\" stroke-width=\"0.008941017997595679\" points=\"-86.78221838000525,36.04134162284918 -86.78204028130429,36.04210249950703 -86.78173728058134,36.04280550088303 -86.7811142791756,36.04370250261575 -86.78038827758708,36.04441150396256 -86.77985927645088,36.04478350465474 -86.77983899687393,36.044795268012976\" opacity=\"0.8\" /><polyline fill=\"none\" stroke=\"#66cc99\" stroke-width=\"0.008941017997595679\" points=\"-86.66957188606845,36.14142698651391 -86.66689944776373,36.14124964143992\" opacity=\"0.8\" /><polyline fill=\"none\" stroke=\"#66cc99\" stroke-width=\"0.008941017997595679\" points=\"-86.71860251247024,36.14083407545956 -86.7045861522553,36.143135924449616\" opacity=\"0.8\" /><polyline fill=\"none\" stroke=\"#66cc99\" stroke-width=\"0.008941017997595679\" points=\"-86.94757212469872,36.085343555550175 -86.94479360760234,36.0866746042166 -86.94329260441316,36.087504605734054 -86.94191760146245,36.08846860753125 -86.94087459920067,36.08936360922185 -86.94013559758024,36.090121610667325 -86.93932059577165,36.091107612561395 -86.93875459449603,36.091928614149055 -86.93806159289961,36.09317461657452 -86.93523658622236,36.09942862880968 -86.93458058469146,36.10074263137441 -86.93342458207803,36.10247163472143 -86.93267058040638,36.10337063644727 -86.93167257821835,36.104387638385816 -86.93028657521691,36.1055416405615 -86.92726043925303,36.10780588356016\" opacity=\"0.8\" /><polyline fill=\"none\" stroke=\"#66cc99\" stroke-width=\"0.008941017997595679\" points=\"-86.7989475317526,36.17200014606552 -86.80015129888166,36.17416676527508 -86.80052629947392,36.17535676769019 -86.8006392898307,36.17621392631024\" opacity=\"0.8\" /><polyline fill=\"none\" stroke=\"#66cc99\" stroke-width=\"0.008941017997595679\" points=\"-86.76758803919913,36.10608593709585 -86.76993835809867,36.10950472748094\" opacity=\"0.8\" /><polyline fill=\"none\" stroke=\"#66cc99\" stroke-width=\"0.008941017997595679\" points=\"-86.64534937272056,36.0365539842741 -86.64498877895478,36.03623138195026\" opacity=\"0.8\" /><polyline fill=\"none\" stroke=\"#66cc99\" stroke-width=\"0.008941017997595679\" points=\"-86.78538305805809,36.150510500641076 -86.78430327004403,36.14974571491875 -86.7828992672717,36.14905971341088 -86.78216086615565,36.14882937806514\" opacity=\"0.8\" /></g></g></svg>"
      ],
      "text/plain": [
       "<shapely.geometry.multilinestring.MultiLineString at 0x1653a7150>"
      ]
     },
     "execution_count": 27,
     "metadata": {},
     "output_type": "execute_result"
    }
   ],
   "source": [
    "cascaded_union(df.seg_id[:100].apply(lambda x: shp_dict[x]))"
   ]
  },
  {
   "cell_type": "code",
   "execution_count": 15,
   "metadata": {},
   "outputs": [],
   "source": [
    "df.to_csv(f'{PROJECT_PATH}/output/waze_12_etrims.csv')"
   ]
  },
  {
   "cell_type": "code",
   "execution_count": null,
   "metadata": {},
   "outputs": [],
   "source": [
    "\n"
   ]
  }
 ],
 "metadata": {
  "colab": {
   "authorship_tag": "ABX9TyMy89A/MRapVuhVle3XlUWH",
   "collapsed_sections": [],
   "name": "waze-join-etrims.ipynb",
   "provenance": []
  },
  "kernelspec": {
   "display_name": "Python 3",
   "language": "python",
   "name": "python3"
  },
  "language_info": {
   "codemirror_mode": {
    "name": "ipython",
    "version": 3
   },
   "file_extension": ".py",
   "mimetype": "text/x-python",
   "name": "python",
   "nbconvert_exporter": "python",
   "pygments_lexer": "ipython3",
   "version": "3.7.4"
  }
 },
 "nbformat": 4,
 "nbformat_minor": 1
}
