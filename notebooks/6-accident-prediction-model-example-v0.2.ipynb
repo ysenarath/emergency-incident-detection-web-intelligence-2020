{
 "cells": [
  {
   "cell_type": "code",
   "execution_count": 1,
   "metadata": {},
   "outputs": [],
   "source": [
    "import pandas as pd\n",
    "import numpy as np\n",
    "from dateutil.parser import parse\n",
    "from datetime import timedelta\n",
    "import tqdm"
   ]
  },
  {
   "cell_type": "code",
   "execution_count": 38,
   "metadata": {},
   "outputs": [],
   "source": [
    "records = [\n",
    "    {\n",
    "        'time': '2019-12-03 12:01:00',\n",
    "        'reliability': 8,\n",
    "        'R1':0.2,\n",
    "        'R2': 0.4,\n",
    "        'R3':0,\n",
    "        'R4':0.4,\n",
    "    },\n",
    "    {\n",
    "        'time': '2019-12-03 12:02:00',\n",
    "        'reliability': 7,\n",
    "        'R1':0.3,\n",
    "        'R2': 0.2,\n",
    "        'R3':0.4,\n",
    "        'R4':0.1,\n",
    "    },\n",
    "    {\n",
    "        'time': '2019-12-03 12:10:01',\n",
    "        'reliability': 9,\n",
    "        'R1':0.3,\n",
    "        'R2': 0.1,\n",
    "        'R3':0.2,\n",
    "        'R4':0.5,\n",
    "    },\n",
    "]\n",
    "\n",
    "records = pd.DataFrame(records)"
   ]
  },
  {
   "cell_type": "code",
   "execution_count": 39,
   "metadata": {
    "scrolled": true
   },
   "outputs": [
    {
     "data": {
      "text/html": [
       "<div>\n",
       "<style scoped>\n",
       "    .dataframe tbody tr th:only-of-type {\n",
       "        vertical-align: middle;\n",
       "    }\n",
       "\n",
       "    .dataframe tbody tr th {\n",
       "        vertical-align: top;\n",
       "    }\n",
       "\n",
       "    .dataframe thead th {\n",
       "        text-align: right;\n",
       "    }\n",
       "</style>\n",
       "<table border=\"1\" class=\"dataframe\">\n",
       "  <thead>\n",
       "    <tr style=\"text-align: right;\">\n",
       "      <th></th>\n",
       "      <th>time</th>\n",
       "      <th>reliability</th>\n",
       "      <th>R1</th>\n",
       "      <th>R2</th>\n",
       "      <th>R3</th>\n",
       "      <th>R4</th>\n",
       "    </tr>\n",
       "  </thead>\n",
       "  <tbody>\n",
       "    <tr>\n",
       "      <td>0</td>\n",
       "      <td>2019-12-03 12:01:00</td>\n",
       "      <td>8</td>\n",
       "      <td>0.2</td>\n",
       "      <td>0.4</td>\n",
       "      <td>0.0</td>\n",
       "      <td>0.4</td>\n",
       "    </tr>\n",
       "    <tr>\n",
       "      <td>1</td>\n",
       "      <td>2019-12-03 12:02:00</td>\n",
       "      <td>7</td>\n",
       "      <td>0.3</td>\n",
       "      <td>0.2</td>\n",
       "      <td>0.4</td>\n",
       "      <td>0.1</td>\n",
       "    </tr>\n",
       "    <tr>\n",
       "      <td>2</td>\n",
       "      <td>2019-12-03 12:10:01</td>\n",
       "      <td>9</td>\n",
       "      <td>0.3</td>\n",
       "      <td>0.1</td>\n",
       "      <td>0.2</td>\n",
       "      <td>0.5</td>\n",
       "    </tr>\n",
       "  </tbody>\n",
       "</table>\n",
       "</div>"
      ],
      "text/plain": [
       "                 time  reliability   R1   R2   R3   R4\n",
       "0 2019-12-03 12:01:00            8  0.2  0.4  0.0  0.4\n",
       "1 2019-12-03 12:02:00            7  0.3  0.2  0.4  0.1\n",
       "2 2019-12-03 12:10:01            9  0.3  0.1  0.2  0.5"
      ]
     },
     "execution_count": 39,
     "metadata": {},
     "output_type": "execute_result"
    }
   ],
   "source": [
    "records.loc[:, 'time'] = pd.to_datetime(records.time)\n",
    "\n",
    "records.head()"
   ]
  },
  {
   "cell_type": "code",
   "execution_count": 40,
   "metadata": {},
   "outputs": [
    {
     "data": {
      "text/plain": [
       "(array([7, 8, 9]), array([1, 1, 1]))"
      ]
     },
     "execution_count": 40,
     "metadata": {},
     "output_type": "execute_result"
    }
   ],
   "source": [
    "np.unique(records.reliability, return_counts=True)"
   ]
  },
  {
   "cell_type": "markdown",
   "metadata": {},
   "source": [
    "### Estimate posterior probabilities every 5 min (keep doing this up to T' min)"
   ]
  },
  {
   "cell_type": "code",
   "execution_count": 41,
   "metadata": {},
   "outputs": [
    {
     "data": {
      "text/plain": [
       "0.13"
      ]
     },
     "execution_count": 41,
     "metadata": {},
     "output_type": "execute_result"
    }
   ],
   "source": [
    "# change to historical data values\n",
    "# P(I=1,R1)\n",
    "def region_prior(region, time):\n",
    "    # use labels_prv to prevent overfitting\n",
    "    return {\n",
    "        'R1':0.01,\n",
    "        'R2':0.03,\n",
    "        'R3':0.05,\n",
    "        'R4':0.04,\n",
    "    }[region]\n",
    "\n",
    "np.sum([region_prior(r, 0) for r in np.unique(records.columns) if r.startswith('R')])"
   ]
  },
  {
   "cell_type": "code",
   "execution_count": 42,
   "metadata": {},
   "outputs": [],
   "source": [
    "def p(r):\n",
    "    return r / 10"
   ]
  },
  {
   "cell_type": "code",
   "execution_count": 69,
   "metadata": {},
   "outputs": [],
   "source": [
    "def calculate_posterior(df, r, time_step=5):\n",
    "    df.loc[:, 'reliability_1'] = df.loc[:, 'reliability'].apply(p)\n",
    "    df.drop('reliability', axis=1, inplace=True)\n",
    "    df.loc[:, 'reliability_0'] = 1 - df.loc[:, 'reliability_1']\n",
    "    time_steps_records = df.set_index('time').resample(f'{time_step}T')\n",
    "    matrix = time_steps_records.apply(np.prod)\n",
    "    p_w_1 = matrix.reliability_1\n",
    "    matrix.drop('reliability_1', axis=1, inplace=True)\n",
    "    p_w_0 = matrix.reliability_0\n",
    "    matrix.drop('reliability_0', axis=1, inplace=True)\n",
    "    print(matrix)\n",
    "    print()\n",
    "    # Calculate region priors    \n",
    "    prior = np.array([region_prior(c, matrix.index[0]) for c in matrix])\n",
    "    p_1 = np.sum(prior)\n",
    "    p_0 = 1 - p_1\n",
    "    print(f'p(I=1) = {p_1}')\n",
    "    p_1_w = p_w_1.iloc[0] * p_1 / (p_w_1.iloc[0] * p_1 + p_w_0.iloc[0] * p_0)\n",
    "    p_0_w = 1 - p_1_w\n",
    "    print(f'P(I=1|w)={p_1_w}; P(I=0|w)={p_0_w}')\n",
    "    matrix.iloc[0, :] = p_1_w * (matrix.iloc[0, :] * prior / np.sum(matrix.iloc[0, :] * prior))\n",
    "    print(f'Posterior (Total): \\n{matrix.iloc[0, :]}')\n",
    "    for ridx in range(1, matrix.shape[0]):\n",
    "        print('\\n' + '_' * 60)\n",
    "        prior = matrix.iloc[ridx - 1, :]\n",
    "        print(f'\\nPriors:\\n{prior}')\n",
    "        p_1, p_0 = p_1_w, 1 - p_1_w\n",
    "        print(f'\\np(I=1) = {p_1}')\n",
    "        p_1_w = p_w_1.iloc[ridx] * p_1 / (p_w_1.iloc[ridx] * p_1 + p_w_0.iloc[ridx] * p_0)\n",
    "        print(f'P(I=1|w)={p_1_w}; P(I=0|w)={1-p_1_w}')\n",
    "        matrix.iloc[ridx, :] = p_1_w * (matrix.iloc[ridx, :] * prior / np.sum(matrix.iloc[ridx, :] * prior))\n",
    "        print(f'\\nPosterior (Total): \\n{matrix.iloc[ridx, :]}')\n",
    "    # Return posteriors\n",
    "    return matrix.index, matrix.loc[:, r]"
   ]
  },
  {
   "cell_type": "code",
   "execution_count": 70,
   "metadata": {
    "scrolled": false
   },
   "outputs": [
    {
     "name": "stderr",
     "output_type": "stream",
     "text": [
      "100%|██████████| 6/6 [00:00<00:00, 114.46it/s]"
     ]
    },
    {
     "name": "stdout",
     "output_type": "stream",
     "text": [
      "2019-12-03 12:01:00\n",
      "                       R1    R2   R3    R4\n",
      "time                                      \n",
      "2019-12-03 12:00:00  0.06  0.08  0.0  0.04\n",
      "2019-12-03 12:05:00  1.00  1.00  1.0  1.00\n",
      "2019-12-03 12:10:00  0.30  0.10  0.2  0.50\n",
      "\n",
      "p(I=1) = 0.13\n",
      "P(I=1|w)=0.5824; P(I=0|w)=0.41759999999999997\n",
      "Posterior (Total): \n",
      "R1    0.075965\n",
      "R2    0.303861\n",
      "R3    0.000000\n",
      "R4    0.202574\n",
      "Name: 2019-12-03 12:00:00, dtype: float64\n",
      "\n",
      "____________________________________________________________\n",
      "\n",
      "Priors:\n",
      "R1    0.075965\n",
      "R2    0.303861\n",
      "R3    0.000000\n",
      "R4    0.202574\n",
      "Name: 2019-12-03 12:00:00, dtype: float64\n",
      "\n",
      "p(I=1) = 0.5824\n",
      "P(I=1|w)=0.5824; P(I=0|w)=0.41759999999999997\n",
      "\n",
      "Posterior (Total): \n",
      "R1    0.075965\n",
      "R2    0.303861\n",
      "R3    0.000000\n",
      "R4    0.202574\n",
      "Name: 2019-12-03 12:05:00, dtype: float64\n",
      "\n",
      "____________________________________________________________\n",
      "\n",
      "Priors:\n",
      "R1    0.075965\n",
      "R2    0.303861\n",
      "R3    0.000000\n",
      "R4    0.202574\n",
      "Name: 2019-12-03 12:05:00, dtype: float64\n",
      "\n",
      "p(I=1) = 0.5824\n",
      "P(I=1|w)=0.926208651399491; P(I=0|w)=0.07379134860050895\n",
      "\n",
      "Posterior (Total): \n",
      "R1    0.136654\n",
      "R2    0.182205\n",
      "R3    0.000000\n",
      "R4    0.607350\n",
      "Name: 2019-12-03 12:10:00, dtype: float64\n"
     ]
    },
    {
     "name": "stderr",
     "output_type": "stream",
     "text": [
      "\n"
     ]
    },
    {
     "data": {
      "text/html": [
       "<div>\n",
       "<style scoped>\n",
       "    .dataframe tbody tr th:only-of-type {\n",
       "        vertical-align: middle;\n",
       "    }\n",
       "\n",
       "    .dataframe tbody tr th {\n",
       "        vertical-align: top;\n",
       "    }\n",
       "\n",
       "    .dataframe thead th {\n",
       "        text-align: right;\n",
       "    }\n",
       "</style>\n",
       "<table border=\"1\" class=\"dataframe\">\n",
       "  <thead>\n",
       "    <tr style=\"text-align: right;\">\n",
       "      <th></th>\n",
       "      <th>incident_id</th>\n",
       "      <th>start_time</th>\n",
       "      <th>end_time</th>\n",
       "      <th>time</th>\n",
       "      <th>region</th>\n",
       "      <th>posterior_proba</th>\n",
       "    </tr>\n",
       "  </thead>\n",
       "  <tbody>\n",
       "    <tr>\n",
       "      <td>0</td>\n",
       "      <td>0</td>\n",
       "      <td>2019-12-03 12:01:00</td>\n",
       "      <td>2019-12-03 12:26:00</td>\n",
       "      <td>2019-12-03 12:00:00</td>\n",
       "      <td>R1</td>\n",
       "      <td>0.075965</td>\n",
       "    </tr>\n",
       "    <tr>\n",
       "      <td>1</td>\n",
       "      <td>0</td>\n",
       "      <td>2019-12-03 12:01:00</td>\n",
       "      <td>2019-12-03 12:26:00</td>\n",
       "      <td>2019-12-03 12:05:00</td>\n",
       "      <td>R1</td>\n",
       "      <td>0.075965</td>\n",
       "    </tr>\n",
       "    <tr>\n",
       "      <td>2</td>\n",
       "      <td>0</td>\n",
       "      <td>2019-12-03 12:01:00</td>\n",
       "      <td>2019-12-03 12:26:00</td>\n",
       "      <td>2019-12-03 12:10:00</td>\n",
       "      <td>R1</td>\n",
       "      <td>0.136654</td>\n",
       "    </tr>\n",
       "  </tbody>\n",
       "</table>\n",
       "</div>"
      ],
      "text/plain": [
       "   incident_id          start_time            end_time                time  \\\n",
       "0            0 2019-12-03 12:01:00 2019-12-03 12:26:00 2019-12-03 12:00:00   \n",
       "1            0 2019-12-03 12:01:00 2019-12-03 12:26:00 2019-12-03 12:05:00   \n",
       "2            0 2019-12-03 12:01:00 2019-12-03 12:26:00 2019-12-03 12:10:00   \n",
       "\n",
       "  region  posterior_proba  \n",
       "0     R1         0.075965  \n",
       "1     R1         0.075965  \n",
       "2     R1         0.136654  "
      ]
     },
     "execution_count": 70,
     "metadata": {},
     "output_type": "execute_result"
    }
   ],
   "source": [
    "def incident_posterior(df, incident_interval=25):\n",
    "    incident_interval = timedelta(minutes=incident_interval)\n",
    "    features = []\n",
    "    incident_id = 0\n",
    "    for col in tqdm.tqdm(df.columns):\n",
    "        # for each region\n",
    "        if col.startswith('R1'):\n",
    "            df_region = df.loc[df[col] > 0, :]\n",
    "            incident_time = np.min(df_region.time)\n",
    "            while incident_time <= np.max(df_region.time):\n",
    "                print(incident_time)\n",
    "                incident_records = df_region[(incident_time <= df_region.time) & (df_region.time < (incident_time + incident_interval))]\n",
    "                time_steps, posterior_probs = calculate_posterior(incident_records, col)\n",
    "                features_temp = []\n",
    "                for time_step, posterior_proba in zip(time_steps, posterior_probs):\n",
    "                    features_temp.append({\n",
    "                        'incident_id': incident_id, \n",
    "                        'start_time': incident_time,\n",
    "                        'end_time': incident_time + incident_interval,\n",
    "                        'time': time_step, \n",
    "                        'region': col,\n",
    "                        'posterior_proba': posterior_proba,\n",
    "                    })\n",
    "                features += features_temp\n",
    "                incident_time = np.min(df_region[(incident_time + incident_interval) <= df_region.time].time)\n",
    "                incident_id = incident_id + 1\n",
    "    return pd.DataFrame(features)\n",
    "\n",
    "features = incident_posterior(records)\n",
    "\n",
    "features.head()"
   ]
  },
  {
   "cell_type": "code",
   "execution_count": null,
   "metadata": {},
   "outputs": [],
   "source": []
  }
 ],
 "metadata": {
  "kernelspec": {
   "display_name": "Python 3",
   "language": "python",
   "name": "python3"
  },
  "language_info": {
   "codemirror_mode": {
    "name": "ipython",
    "version": 3
   },
   "file_extension": ".py",
   "mimetype": "text/x-python",
   "name": "python",
   "nbconvert_exporter": "python",
   "pygments_lexer": "ipython3",
   "version": "3.7.4"
  }
 },
 "nbformat": 4,
 "nbformat_minor": 4
}
