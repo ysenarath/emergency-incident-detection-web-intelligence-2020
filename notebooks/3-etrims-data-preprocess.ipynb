{
 "cells": [
  {
   "cell_type": "code",
   "execution_count": 10,
   "metadata": {},
   "outputs": [],
   "source": [
    "import os\n",
    "import numpy as np\n",
    "import pandas as pd"
   ]
  },
  {
   "cell_type": "code",
   "execution_count": 11,
   "metadata": {},
   "outputs": [],
   "source": [
    "df = pd.read_pickle('resources/tdot_testing_incidents.pk')"
   ]
  },
  {
   "cell_type": "code",
   "execution_count": 12,
   "metadata": {},
   "outputs": [
    {
     "data": {
      "text/html": [
       "<div>\n",
       "<style scoped>\n",
       "    .dataframe tbody tr th:only-of-type {\n",
       "        vertical-align: middle;\n",
       "    }\n",
       "\n",
       "    .dataframe tbody tr th {\n",
       "        vertical-align: top;\n",
       "    }\n",
       "\n",
       "    .dataframe thead th {\n",
       "        text-align: right;\n",
       "    }\n",
       "</style>\n",
       "<table border=\"1\" class=\"dataframe\">\n",
       "  <thead>\n",
       "    <tr style=\"text-align: right;\">\n",
       "      <th></th>\n",
       "      <th>BLM</th>\n",
       "      <th>County</th>\n",
       "      <th>Route</th>\n",
       "      <th>Co Seq</th>\n",
       "      <th>Location</th>\n",
       "      <th>Year Of Crash</th>\n",
       "      <th>Date of Crash</th>\n",
       "      <th>Time of Crash</th>\n",
       "      <th>Type of Crash</th>\n",
       "      <th>Total Killed</th>\n",
       "      <th>...</th>\n",
       "      <th>Light Conditions</th>\n",
       "      <th>GPS Coordinate Latitude</th>\n",
       "      <th>GPS Coordinate Longitude</th>\n",
       "      <th>Total Other Injuries</th>\n",
       "      <th>Total Veh</th>\n",
       "      <th>ID NUMBER</th>\n",
       "      <th>unit_segment_id</th>\n",
       "      <th>cell_id</th>\n",
       "      <th>time</th>\n",
       "      <th>timestamp</th>\n",
       "    </tr>\n",
       "  </thead>\n",
       "  <tbody>\n",
       "    <tr>\n",
       "      <td>520</td>\n",
       "      <td>0.098</td>\n",
       "      <td>DAVIDSON</td>\n",
       "      <td>I0024</td>\n",
       "      <td>1</td>\n",
       "      <td>Along Roadway</td>\n",
       "      <td>2019</td>\n",
       "      <td>12/19/2019 12:00:00 AM</td>\n",
       "      <td>1006</td>\n",
       "      <td>Suspected Minor Injury</td>\n",
       "      <td>0</td>\n",
       "      <td>...</td>\n",
       "      <td>Daylight</td>\n",
       "      <td>36.33891</td>\n",
       "      <td>-86.91617</td>\n",
       "      <td>1</td>\n",
       "      <td>2</td>\n",
       "      <td>19I0024001</td>\n",
       "      <td>75.0</td>\n",
       "      <td>7.0</td>\n",
       "      <td>2019-12-19 10:06:00</td>\n",
       "      <td>1.576772e+09</td>\n",
       "    </tr>\n",
       "    <tr>\n",
       "      <td>520</td>\n",
       "      <td>16.650</td>\n",
       "      <td>DAVIDSON</td>\n",
       "      <td>I0040</td>\n",
       "      <td>1</td>\n",
       "      <td>Along Roadway</td>\n",
       "      <td>2020</td>\n",
       "      <td>3/6/2020 12:00:00 AM</td>\n",
       "      <td>1304</td>\n",
       "      <td>Prop Damage (over)</td>\n",
       "      <td>0</td>\n",
       "      <td>...</td>\n",
       "      <td>Daylight</td>\n",
       "      <td>36.16772</td>\n",
       "      <td>-86.79611</td>\n",
       "      <td>0</td>\n",
       "      <td>2</td>\n",
       "      <td>19I0040001</td>\n",
       "      <td>860.0</td>\n",
       "      <td>20.0</td>\n",
       "      <td>2020-03-06 13:04:00</td>\n",
       "      <td>1.583521e+09</td>\n",
       "    </tr>\n",
       "  </tbody>\n",
       "</table>\n",
       "<p>2 rows × 23 columns</p>\n",
       "</div>"
      ],
      "text/plain": [
       "        BLM    County  Route  Co Seq       Location  Year Of Crash  \\\n",
       "520   0.098  DAVIDSON  I0024       1  Along Roadway           2019   \n",
       "520  16.650  DAVIDSON  I0040       1  Along Roadway           2020   \n",
       "\n",
       "              Date of Crash  Time of Crash           Type of Crash  \\\n",
       "520  12/19/2019 12:00:00 AM           1006  Suspected Minor Injury   \n",
       "520    3/6/2020 12:00:00 AM           1304      Prop Damage (over)   \n",
       "\n",
       "     Total Killed  ...  Light Conditions  GPS Coordinate Latitude  \\\n",
       "520             0  ...          Daylight                 36.33891   \n",
       "520             0  ...          Daylight                 36.16772   \n",
       "\n",
       "    GPS Coordinate Longitude Total Other Injuries  Total Veh   ID NUMBER  \\\n",
       "520                -86.91617                    1          2  19I0024001   \n",
       "520                -86.79611                    0          2  19I0040001   \n",
       "\n",
       "     unit_segment_id  cell_id                time     timestamp  \n",
       "520             75.0      7.0 2019-12-19 10:06:00  1.576772e+09  \n",
       "520            860.0     20.0 2020-03-06 13:04:00  1.583521e+09  \n",
       "\n",
       "[2 rows x 23 columns]"
      ]
     },
     "execution_count": 12,
     "metadata": {},
     "output_type": "execute_result"
    }
   ],
   "source": [
    "df.loc[520]"
   ]
  },
  {
   "cell_type": "code",
   "execution_count": 13,
   "metadata": {},
   "outputs": [],
   "source": [
    "# Create an Auxiliary Accident DataFame indicating [Date, Time, Road Segment ID, Number of Accidents]"
   ]
  },
  {
   "cell_type": "code",
   "execution_count": 15,
   "metadata": {},
   "outputs": [],
   "source": [
    "df_freq = df.groupby(['unit_segment_id', 'Date of Crash', 'Time of Crash', 'GPS Coordinate Latitude', 'GPS Coordinate Longitude', 'timestamp']).size()\n",
    "df_freq = df_freq.reset_index()\n",
    "df_freq.columns = ['segment_id', 'date', 'time', 'lat', 'lng', 'timestamp', 'count']"
   ]
  },
  {
   "cell_type": "code",
   "execution_count": 16,
   "metadata": {},
   "outputs": [],
   "source": [
    "df_freq.date = pd.to_datetime(df_freq.date, infer_datetime_format=True)"
   ]
  },
  {
   "cell_type": "code",
   "execution_count": 17,
   "metadata": {},
   "outputs": [
    {
     "data": {
      "text/plain": [
       "(Timestamp('2019-08-01 00:00:00'), Timestamp('2020-05-01 00:00:00'))"
      ]
     },
     "execution_count": 17,
     "metadata": {},
     "output_type": "execute_result"
    }
   ],
   "source": [
    "min(df_freq.date), max(df_freq.date)"
   ]
  },
  {
   "cell_type": "code",
   "execution_count": 18,
   "metadata": {},
   "outputs": [],
   "source": [
    "# Extract data for december"
   ]
  },
  {
   "cell_type": "code",
   "execution_count": 19,
   "metadata": {},
   "outputs": [],
   "source": [
    "df_time_s = df_freq.time.apply(lambda x: '{}:{}:00'.format(str(x)[:-2] if len(str(x)) > 2 else 0, str(x)[-2:]))\n",
    "\n",
    "df_freq.time = df_freq.date + pd.to_timedelta(df_time_s, unit='h')\n",
    "\n",
    "df_freq = df_freq.drop('date', axis=1)"
   ]
  },
  {
   "cell_type": "code",
   "execution_count": 20,
   "metadata": {},
   "outputs": [],
   "source": [
    "df_freq_dec = df_freq[df_freq.time.dt.month == 12]"
   ]
  },
  {
   "cell_type": "code",
   "execution_count": 21,
   "metadata": {},
   "outputs": [
    {
     "name": "stderr",
     "output_type": "stream",
     "text": [
      "/opt/anaconda3/lib/python3.7/site-packages/pandas/core/indexing.py:494: SettingWithCopyWarning: \n",
      "A value is trying to be set on a copy of a slice from a DataFrame.\n",
      "Try using .loc[row_indexer,col_indexer] = value instead\n",
      "\n",
      "See the caveats in the documentation: http://pandas.pydata.org/pandas-docs/stable/user_guide/indexing.html#returning-a-view-versus-a-copy\n",
      "  self.obj[item] = s\n"
     ]
    }
   ],
   "source": [
    "df_freq_dec.loc[:, 'segment_id'] = df_freq_dec.segment_id.apply(int)"
   ]
  },
  {
   "cell_type": "code",
   "execution_count": 22,
   "metadata": {},
   "outputs": [
    {
     "data": {
      "text/html": [
       "<div>\n",
       "<style scoped>\n",
       "    .dataframe tbody tr th:only-of-type {\n",
       "        vertical-align: middle;\n",
       "    }\n",
       "\n",
       "    .dataframe tbody tr th {\n",
       "        vertical-align: top;\n",
       "    }\n",
       "\n",
       "    .dataframe thead th {\n",
       "        text-align: right;\n",
       "    }\n",
       "</style>\n",
       "<table border=\"1\" class=\"dataframe\">\n",
       "  <thead>\n",
       "    <tr style=\"text-align: right;\">\n",
       "      <th></th>\n",
       "      <th>segment_id</th>\n",
       "      <th>time</th>\n",
       "      <th>lat</th>\n",
       "      <th>lng</th>\n",
       "      <th>timestamp</th>\n",
       "      <th>count</th>\n",
       "    </tr>\n",
       "  </thead>\n",
       "  <tbody>\n",
       "    <tr>\n",
       "      <td>8</td>\n",
       "      <td>75</td>\n",
       "      <td>2019-12-19 10:06:00</td>\n",
       "      <td>36.33891</td>\n",
       "      <td>-86.91617</td>\n",
       "      <td>1.576772e+09</td>\n",
       "      <td>1</td>\n",
       "    </tr>\n",
       "    <tr>\n",
       "      <td>9</td>\n",
       "      <td>75</td>\n",
       "      <td>2019-12-08 14:18:00</td>\n",
       "      <td>36.33207</td>\n",
       "      <td>-86.90093</td>\n",
       "      <td>1.575836e+09</td>\n",
       "      <td>1</td>\n",
       "    </tr>\n",
       "    <tr>\n",
       "      <td>10</td>\n",
       "      <td>75</td>\n",
       "      <td>2019-12-08 16:45:00</td>\n",
       "      <td>36.33152</td>\n",
       "      <td>-86.90128</td>\n",
       "      <td>1.575845e+09</td>\n",
       "      <td>1</td>\n",
       "    </tr>\n",
       "    <tr>\n",
       "      <td>11</td>\n",
       "      <td>75</td>\n",
       "      <td>2019-12-09 07:04:00</td>\n",
       "      <td>36.33891</td>\n",
       "      <td>-86.91617</td>\n",
       "      <td>1.575897e+09</td>\n",
       "      <td>1</td>\n",
       "    </tr>\n",
       "    <tr>\n",
       "      <td>34</td>\n",
       "      <td>78</td>\n",
       "      <td>2019-12-15 14:01:00</td>\n",
       "      <td>36.32500</td>\n",
       "      <td>-86.87300</td>\n",
       "      <td>1.576440e+09</td>\n",
       "      <td>1</td>\n",
       "    </tr>\n",
       "  </tbody>\n",
       "</table>\n",
       "</div>"
      ],
      "text/plain": [
       "    segment_id                time       lat       lng     timestamp  count\n",
       "8           75 2019-12-19 10:06:00  36.33891 -86.91617  1.576772e+09      1\n",
       "9           75 2019-12-08 14:18:00  36.33207 -86.90093  1.575836e+09      1\n",
       "10          75 2019-12-08 16:45:00  36.33152 -86.90128  1.575845e+09      1\n",
       "11          75 2019-12-09 07:04:00  36.33891 -86.91617  1.575897e+09      1\n",
       "34          78 2019-12-15 14:01:00  36.32500 -86.87300  1.576440e+09      1"
      ]
     },
     "execution_count": 22,
     "metadata": {},
     "output_type": "execute_result"
    }
   ],
   "source": [
    "df_freq_dec.head()"
   ]
  },
  {
   "cell_type": "code",
   "execution_count": 23,
   "metadata": {},
   "outputs": [],
   "source": [
    "df_freq_dec.to_pickle('output/tdot_12_incidents.pkl')"
   ]
  },
  {
   "cell_type": "code",
   "execution_count": null,
   "metadata": {},
   "outputs": [],
   "source": []
  }
 ],
 "metadata": {
  "colab": {
   "authorship_tag": "ABX9TyMy89A/MRapVuhVle3XlUWH",
   "collapsed_sections": [],
   "name": "waze-join-etrims.ipynb",
   "provenance": []
  },
  "kernelspec": {
   "display_name": "Python 3",
   "language": "python",
   "name": "python3"
  },
  "language_info": {
   "codemirror_mode": {
    "name": "ipython",
    "version": 3
   },
   "file_extension": ".py",
   "mimetype": "text/x-python",
   "name": "python",
   "nbconvert_exporter": "python",
   "pygments_lexer": "ipython3",
   "version": "3.7.4"
  }
 },
 "nbformat": 4,
 "nbformat_minor": 1
}
