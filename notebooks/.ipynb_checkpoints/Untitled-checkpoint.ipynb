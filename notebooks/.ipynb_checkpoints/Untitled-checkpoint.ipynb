{
 "cells": [
  {
   "cell_type": "code",
   "execution_count": 1,
   "metadata": {},
   "outputs": [],
   "source": [
    "# Drawing Graphs Again"
   ]
  },
  {
   "cell_type": "code",
   "execution_count": 16,
   "metadata": {},
   "outputs": [],
   "source": [
    "import pandas as pd\n",
    "import numpy as np"
   ]
  },
  {
   "cell_type": "code",
   "execution_count": 76,
   "metadata": {},
   "outputs": [
    {
     "data": {
      "text/plain": [
       "24"
      ]
     },
     "execution_count": 76,
     "metadata": {},
     "output_type": "execute_result"
    }
   ],
   "source": [
    "values = [\n",
    "    [175, 20],\n",
    "    [53, 8],\n",
    "    [49, 6],\n",
    "    [24, 4], #3\n",
    "    [24, 4],\n",
    "    [16, 2],\n",
    "    [8, 0], #6\n",
    "    [4, 2],\n",
    "    [7, 3], #8\n",
    "    [7, 4], #9\n",
    "    [6, 2], #10\n",
    "    [35, 8], #11\n",
    "    [84, 10],\n",
    "    [123, 14],\n",
    "    [99, 14],\n",
    "    [72, 11], #16\n",
    "    \n",
    "    [53, 9], #17\n",
    "    \n",
    "    [80, 8], #18\n",
    "    [71, 10], #19\n",
    "    [77, 11], #20\n",
    "    \n",
    "    [73, 10], #21\n",
    "    [111, 15], #22\n",
    "    [177, 17], #23\n",
    "    [246, 30], #24\n",
    "]\n",
    "\n",
    "len(values)"
   ]
  },
  {
   "cell_type": "code",
   "execution_count": 77,
   "metadata": {},
   "outputs": [
    {
     "data": {
      "text/plain": [
       "array([[648.14814815,  74.07407407],\n",
       "       [196.2962963 ,  29.62962963],\n",
       "       [181.48148148,  22.22222222],\n",
       "       [ 88.88888889,  14.81481481],\n",
       "       [ 88.88888889,  14.81481481],\n",
       "       [ 59.25925926,   7.40740741],\n",
       "       [ 29.62962963,   0.        ],\n",
       "       [ 14.81481481,   7.40740741],\n",
       "       [ 25.92592593,  11.11111111],\n",
       "       [ 25.92592593,  14.81481481],\n",
       "       [ 22.22222222,   7.40740741],\n",
       "       [129.62962963,  29.62962963],\n",
       "       [311.11111111,  37.03703704],\n",
       "       [455.55555556,  51.85185185],\n",
       "       [366.66666667,  51.85185185],\n",
       "       [266.66666667,  40.74074074],\n",
       "       [196.2962963 ,  33.33333333],\n",
       "       [296.2962963 ,  29.62962963],\n",
       "       [262.96296296,  37.03703704],\n",
       "       [285.18518519,  40.74074074],\n",
       "       [270.37037037,  37.03703704],\n",
       "       [411.11111111,  55.55555556],\n",
       "       [655.55555556,  62.96296296],\n",
       "       [911.11111111, 111.11111111]])"
      ]
     },
     "execution_count": 77,
     "metadata": {},
     "output_type": "execute_result"
    }
   ],
   "source": [
    "values = (np.array(values) * 200 / 54)\n",
    "values"
   ]
  },
  {
   "cell_type": "code",
   "execution_count": 78,
   "metadata": {},
   "outputs": [],
   "source": [
    "x1, x2 = (values[:, 0] - values[:, 1]).tolist(), values[:, 1].tolist()"
   ]
  },
  {
   "cell_type": "code",
   "execution_count": 79,
   "metadata": {},
   "outputs": [
    {
     "data": {
      "image/png": "[encoded data removed]",
      "text/plain": [
       "<Figure size 432x288 with 1 Axes>"
      ]
     },
     "metadata": {
      "needs_background": "light"
     },
     "output_type": "display_data"
    }
   ],
   "source": [
    "import matplotlib.pyplot as plt\n",
    "\n",
    "X = range(len(x1))\n",
    "\n",
    "plt.ylim(top=1000)\n",
    "\n",
    "plt.bar(X, x2, color = 'tab:blue', align='center', label='Accident')\n",
    "plt.bar(X, x1, color = 'tab:orange', bottom = x2, align='center', label='Reports')\n",
    "\n",
    "plt.xticks(np.arange(len(x1)), np.arange(len(x1)))\n",
    "\n",
    "plt.tight_layout()\n",
    "plt.legend()\n",
    "# plt.show()\n",
    "plt.savefig('waze_tdot_hourly_dist.png', dpi=600)"
   ]
  },
  {
   "cell_type": "code",
   "execution_count": null,
   "metadata": {},
   "outputs": [],
   "source": [
    "data = [\n",
    "    {\n",
    "        \"Radius\": 50,\n",
    "        \"Time Step (min)\": [1, 2.5, 5],\n",
    "        \"Accuracy\": [124, 127, 130],\n",
    "        \"Precision\": [39, 35, 32],\n",
    "        \"Recall\": ,\n",
    "        \"F1\": [62, 55, 55],\n",
    "        \"ROC AUC\": [133, 137, 139],\n",
    "    },\n",
    "    {\n",
    "        \"Radius\": 0,\n",
    "        \"Accuracy\": 0,\n",
    "        \"Precision\": 0,\n",
    "        \"Recall\": 0,\n",
    "        \"F1\": 0,\n",
    "        \"ROC AUC\": 0,\n",
    "    },\n",
    "    {\n",
    "        \"Radius\": 0,\n",
    "        \"Accuracy\": 0,\n",
    "        \"Precision\": 0,\n",
    "        \"Recall\": 0,\n",
    "        \"F1\": 0,\n",
    "        \"ROC AUC\": 0,\n",
    "    },\n",
    "]"
   ]
  }
 ],
 "metadata": {
  "kernelspec": {
   "display_name": "Python 3",
   "language": "python",
   "name": "python3"
  },
  "language_info": {
   "codemirror_mode": {
    "name": "ipython",
    "version": 3
   },
   "file_extension": ".py",
   "mimetype": "text/x-python",
   "name": "python",
   "nbconvert_exporter": "python",
   "pygments_lexer": "ipython3",
   "version": "3.7.4"
  }
 },
 "nbformat": 4,
 "nbformat_minor": 4
}
