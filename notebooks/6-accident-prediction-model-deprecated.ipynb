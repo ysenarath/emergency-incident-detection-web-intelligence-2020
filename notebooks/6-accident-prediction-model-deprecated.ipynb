{
 "cells": [
  {
   "cell_type": "code",
   "execution_count": 592,
   "metadata": {},
   "outputs": [],
   "source": [
    "import pandas as pd\n",
    "from dateutil.parser import parse\n",
    "import h3"
   ]
  },
  {
   "cell_type": "code",
   "execution_count": 578,
   "metadata": {},
   "outputs": [],
   "source": [
    "records = pd.read_pickle('output/waze_12_features.pkl')\n",
    "labels = pd.read_pickle('output/waze_12_labels.pkl')"
   ]
  },
  {
   "cell_type": "code",
   "execution_count": null,
   "metadata": {},
   "outputs": [],
   "source": [
    "def surroundings(r, regions, aperture_size):\n",
    "    boundary = h3.h3_to_geo_boundary(h3.geo_to_h3(pt.y, pt.x, aperture_size))"
   ]
  },
  {
   "cell_type": "code",
   "execution_count": 581,
   "metadata": {
    "scrolled": true
   },
   "outputs": [
    {
     "data": {
      "text/html": [
       "<div>\n",
       "<style scoped>\n",
       "    .dataframe tbody tr th:only-of-type {\n",
       "        vertical-align: middle;\n",
       "    }\n",
       "\n",
       "    .dataframe tbody tr th {\n",
       "        vertical-align: top;\n",
       "    }\n",
       "\n",
       "    .dataframe thead th {\n",
       "        text-align: right;\n",
       "    }\n",
       "</style>\n",
       "<table border=\"1\" class=\"dataframe\">\n",
       "  <thead>\n",
       "    <tr style=\"text-align: right;\">\n",
       "      <th></th>\n",
       "      <th>time</th>\n",
       "      <th>reliability</th>\n",
       "      <th>r_86264d8dfffffff</th>\n",
       "      <th>r_86264d157ffffff</th>\n",
       "      <th>r_86264d177ffffff</th>\n",
       "      <th>r_86264d10fffffff</th>\n",
       "      <th>r_86264d11fffffff</th>\n",
       "      <th>r_86264d107ffffff</th>\n",
       "      <th>r_86264d117ffffff</th>\n",
       "      <th>r_86264d137ffffff</th>\n",
       "      <th>...</th>\n",
       "      <th>r_86264d887ffffff</th>\n",
       "      <th>r_86264d897ffffff</th>\n",
       "      <th>r_86264d147ffffff</th>\n",
       "      <th>r_86264d8a7ffffff</th>\n",
       "      <th>r_86264d8c7ffffff</th>\n",
       "      <th>r_86264d187ffffff</th>\n",
       "      <th>r_86264d1a7ffffff</th>\n",
       "      <th>r_86264dc67ffffff</th>\n",
       "      <th>r_86264dc77ffffff</th>\n",
       "      <th>r_86264dd5fffffff</th>\n",
       "    </tr>\n",
       "  </thead>\n",
       "  <tbody>\n",
       "    <tr>\n",
       "      <td>0</td>\n",
       "      <td>2019-12-03 02:41:41</td>\n",
       "      <td>7</td>\n",
       "      <td>1.0</td>\n",
       "      <td>0.000000</td>\n",
       "      <td>0.000000</td>\n",
       "      <td>0.000000</td>\n",
       "      <td>0.000000</td>\n",
       "      <td>0.000000</td>\n",
       "      <td>0.0</td>\n",
       "      <td>0.0</td>\n",
       "      <td>...</td>\n",
       "      <td>0.0</td>\n",
       "      <td>0.0</td>\n",
       "      <td>0.0</td>\n",
       "      <td>0.0</td>\n",
       "      <td>0.0</td>\n",
       "      <td>0.0</td>\n",
       "      <td>0.0</td>\n",
       "      <td>0.0</td>\n",
       "      <td>0.0</td>\n",
       "      <td>0.0</td>\n",
       "    </tr>\n",
       "    <tr>\n",
       "      <td>1</td>\n",
       "      <td>2019-12-03 14:49:24</td>\n",
       "      <td>5</td>\n",
       "      <td>0.0</td>\n",
       "      <td>0.072373</td>\n",
       "      <td>0.382160</td>\n",
       "      <td>0.545467</td>\n",
       "      <td>0.000000</td>\n",
       "      <td>0.000000</td>\n",
       "      <td>0.0</td>\n",
       "      <td>0.0</td>\n",
       "      <td>...</td>\n",
       "      <td>0.0</td>\n",
       "      <td>0.0</td>\n",
       "      <td>0.0</td>\n",
       "      <td>0.0</td>\n",
       "      <td>0.0</td>\n",
       "      <td>0.0</td>\n",
       "      <td>0.0</td>\n",
       "      <td>0.0</td>\n",
       "      <td>0.0</td>\n",
       "      <td>0.0</td>\n",
       "    </tr>\n",
       "    <tr>\n",
       "      <td>2</td>\n",
       "      <td>2019-12-03 14:46:04</td>\n",
       "      <td>10</td>\n",
       "      <td>0.0</td>\n",
       "      <td>0.000000</td>\n",
       "      <td>0.000000</td>\n",
       "      <td>0.152059</td>\n",
       "      <td>0.808363</td>\n",
       "      <td>0.039578</td>\n",
       "      <td>0.0</td>\n",
       "      <td>0.0</td>\n",
       "      <td>...</td>\n",
       "      <td>0.0</td>\n",
       "      <td>0.0</td>\n",
       "      <td>0.0</td>\n",
       "      <td>0.0</td>\n",
       "      <td>0.0</td>\n",
       "      <td>0.0</td>\n",
       "      <td>0.0</td>\n",
       "      <td>0.0</td>\n",
       "      <td>0.0</td>\n",
       "      <td>0.0</td>\n",
       "    </tr>\n",
       "    <tr>\n",
       "      <td>3</td>\n",
       "      <td>2019-12-03 14:38:57</td>\n",
       "      <td>5</td>\n",
       "      <td>0.0</td>\n",
       "      <td>0.115842</td>\n",
       "      <td>0.401464</td>\n",
       "      <td>0.482694</td>\n",
       "      <td>0.000000</td>\n",
       "      <td>0.000000</td>\n",
       "      <td>0.0</td>\n",
       "      <td>0.0</td>\n",
       "      <td>...</td>\n",
       "      <td>0.0</td>\n",
       "      <td>0.0</td>\n",
       "      <td>0.0</td>\n",
       "      <td>0.0</td>\n",
       "      <td>0.0</td>\n",
       "      <td>0.0</td>\n",
       "      <td>0.0</td>\n",
       "      <td>0.0</td>\n",
       "      <td>0.0</td>\n",
       "      <td>0.0</td>\n",
       "    </tr>\n",
       "    <tr>\n",
       "      <td>4</td>\n",
       "      <td>2019-12-03 14:34:57</td>\n",
       "      <td>10</td>\n",
       "      <td>0.0</td>\n",
       "      <td>0.012711</td>\n",
       "      <td>0.324826</td>\n",
       "      <td>0.662463</td>\n",
       "      <td>0.000000</td>\n",
       "      <td>0.000000</td>\n",
       "      <td>0.0</td>\n",
       "      <td>0.0</td>\n",
       "      <td>...</td>\n",
       "      <td>0.0</td>\n",
       "      <td>0.0</td>\n",
       "      <td>0.0</td>\n",
       "      <td>0.0</td>\n",
       "      <td>0.0</td>\n",
       "      <td>0.0</td>\n",
       "      <td>0.0</td>\n",
       "      <td>0.0</td>\n",
       "      <td>0.0</td>\n",
       "      <td>0.0</td>\n",
       "    </tr>\n",
       "  </tbody>\n",
       "</table>\n",
       "<p>5 rows × 26 columns</p>\n",
       "</div>"
      ],
      "text/plain": [
       "                 time  reliability  r_86264d8dfffffff  r_86264d157ffffff  \\\n",
       "0 2019-12-03 02:41:41            7                1.0           0.000000   \n",
       "1 2019-12-03 14:49:24            5                0.0           0.072373   \n",
       "2 2019-12-03 14:46:04           10                0.0           0.000000   \n",
       "3 2019-12-03 14:38:57            5                0.0           0.115842   \n",
       "4 2019-12-03 14:34:57           10                0.0           0.012711   \n",
       "\n",
       "   r_86264d177ffffff  r_86264d10fffffff  r_86264d11fffffff  r_86264d107ffffff  \\\n",
       "0           0.000000           0.000000           0.000000           0.000000   \n",
       "1           0.382160           0.545467           0.000000           0.000000   \n",
       "2           0.000000           0.152059           0.808363           0.039578   \n",
       "3           0.401464           0.482694           0.000000           0.000000   \n",
       "4           0.324826           0.662463           0.000000           0.000000   \n",
       "\n",
       "   r_86264d117ffffff  r_86264d137ffffff  ...  r_86264d887ffffff  \\\n",
       "0                0.0                0.0  ...                0.0   \n",
       "1                0.0                0.0  ...                0.0   \n",
       "2                0.0                0.0  ...                0.0   \n",
       "3                0.0                0.0  ...                0.0   \n",
       "4                0.0                0.0  ...                0.0   \n",
       "\n",
       "   r_86264d897ffffff  r_86264d147ffffff  r_86264d8a7ffffff  r_86264d8c7ffffff  \\\n",
       "0                0.0                0.0                0.0                0.0   \n",
       "1                0.0                0.0                0.0                0.0   \n",
       "2                0.0                0.0                0.0                0.0   \n",
       "3                0.0                0.0                0.0                0.0   \n",
       "4                0.0                0.0                0.0                0.0   \n",
       "\n",
       "   r_86264d187ffffff  r_86264d1a7ffffff  r_86264dc67ffffff  r_86264dc77ffffff  \\\n",
       "0                0.0                0.0                0.0                0.0   \n",
       "1                0.0                0.0                0.0                0.0   \n",
       "2                0.0                0.0                0.0                0.0   \n",
       "3                0.0                0.0                0.0                0.0   \n",
       "4                0.0                0.0                0.0                0.0   \n",
       "\n",
       "   r_86264dd5fffffff  \n",
       "0                0.0  \n",
       "1                0.0  \n",
       "2                0.0  \n",
       "3                0.0  \n",
       "4                0.0  \n",
       "\n",
       "[5 rows x 26 columns]"
      ]
     },
     "execution_count": 581,
     "metadata": {},
     "output_type": "execute_result"
    }
   ],
   "source": [
    "records.head()"
   ]
  },
  {
   "cell_type": "code",
   "execution_count": 588,
   "metadata": {},
   "outputs": [
    {
     "data": {
      "text/plain": [
       "(array([ 5,  6,  7,  8,  9, 10]), array([1447, 1038,  782,  603,  509, 1782]))"
      ]
     },
     "execution_count": 588,
     "metadata": {},
     "output_type": "execute_result"
    }
   ],
   "source": [
    "np.unique(records.reliability, return_counts=True)"
   ]
  },
  {
   "cell_type": "code",
   "execution_count": 580,
   "metadata": {},
   "outputs": [],
   "source": [
    "labels.loc[:, 'region'] = labels.hex6.apply(lambda x: 'r_' + x)"
   ]
  },
  {
   "cell_type": "markdown",
   "metadata": {},
   "source": [
    "### Incident Time Intervel\n",
    "\n",
    "- Definition: The average time taken for the arrival of first waze repot to the last waze report"
   ]
  },
  {
   "cell_type": "code",
   "execution_count": 475,
   "metadata": {},
   "outputs": [
    {
     "data": {
      "text/html": [
       "<div>\n",
       "<style scoped>\n",
       "    .dataframe tbody tr th:only-of-type {\n",
       "        vertical-align: middle;\n",
       "    }\n",
       "\n",
       "    .dataframe tbody tr th {\n",
       "        vertical-align: top;\n",
       "    }\n",
       "\n",
       "    .dataframe thead th {\n",
       "        text-align: right;\n",
       "    }\n",
       "</style>\n",
       "<table border=\"1\" class=\"dataframe\">\n",
       "  <thead>\n",
       "    <tr style=\"text-align: right;\">\n",
       "      <th></th>\n",
       "      <th>segment_id</th>\n",
       "      <th>time</th>\n",
       "      <th>lat</th>\n",
       "      <th>lng</th>\n",
       "      <th>timestamp</th>\n",
       "      <th>count</th>\n",
       "      <th>hex6</th>\n",
       "      <th>region</th>\n",
       "    </tr>\n",
       "  </thead>\n",
       "  <tbody>\n",
       "    <tr>\n",
       "      <td>8</td>\n",
       "      <td>75</td>\n",
       "      <td>2019-12-19 16:06:00</td>\n",
       "      <td>36.33891</td>\n",
       "      <td>-86.91617</td>\n",
       "      <td>1.576772e+09</td>\n",
       "      <td>1</td>\n",
       "      <td>86264dc77ffffff</td>\n",
       "      <td>r_86264dc77ffffff</td>\n",
       "    </tr>\n",
       "    <tr>\n",
       "      <td>9</td>\n",
       "      <td>75</td>\n",
       "      <td>2019-12-08 20:18:00</td>\n",
       "      <td>36.33207</td>\n",
       "      <td>-86.90093</td>\n",
       "      <td>1.575836e+09</td>\n",
       "      <td>1</td>\n",
       "      <td>86264dd5fffffff</td>\n",
       "      <td>r_86264dd5fffffff</td>\n",
       "    </tr>\n",
       "    <tr>\n",
       "      <td>10</td>\n",
       "      <td>75</td>\n",
       "      <td>2019-12-08 22:45:00</td>\n",
       "      <td>36.33152</td>\n",
       "      <td>-86.90128</td>\n",
       "      <td>1.575845e+09</td>\n",
       "      <td>1</td>\n",
       "      <td>86264dd5fffffff</td>\n",
       "      <td>r_86264dd5fffffff</td>\n",
       "    </tr>\n",
       "    <tr>\n",
       "      <td>11</td>\n",
       "      <td>75</td>\n",
       "      <td>2019-12-09 13:04:00</td>\n",
       "      <td>36.33891</td>\n",
       "      <td>-86.91617</td>\n",
       "      <td>1.575897e+09</td>\n",
       "      <td>1</td>\n",
       "      <td>86264dc77ffffff</td>\n",
       "      <td>r_86264dc77ffffff</td>\n",
       "    </tr>\n",
       "    <tr>\n",
       "      <td>34</td>\n",
       "      <td>78</td>\n",
       "      <td>2019-12-15 20:01:00</td>\n",
       "      <td>36.32500</td>\n",
       "      <td>-86.87300</td>\n",
       "      <td>1.576440e+09</td>\n",
       "      <td>1</td>\n",
       "      <td>86264dc67ffffff</td>\n",
       "      <td>r_86264dc67ffffff</td>\n",
       "    </tr>\n",
       "  </tbody>\n",
       "</table>\n",
       "</div>"
      ],
      "text/plain": [
       "    segment_id                time       lat       lng     timestamp  count  \\\n",
       "8           75 2019-12-19 16:06:00  36.33891 -86.91617  1.576772e+09      1   \n",
       "9           75 2019-12-08 20:18:00  36.33207 -86.90093  1.575836e+09      1   \n",
       "10          75 2019-12-08 22:45:00  36.33152 -86.90128  1.575845e+09      1   \n",
       "11          75 2019-12-09 13:04:00  36.33891 -86.91617  1.575897e+09      1   \n",
       "34          78 2019-12-15 20:01:00  36.32500 -86.87300  1.576440e+09      1   \n",
       "\n",
       "               hex6             region  \n",
       "8   86264dc77ffffff  r_86264dc77ffffff  \n",
       "9   86264dd5fffffff  r_86264dd5fffffff  \n",
       "10  86264dd5fffffff  r_86264dd5fffffff  \n",
       "11  86264dc77ffffff  r_86264dc77ffffff  \n",
       "34  86264dc67ffffff  r_86264dc67ffffff  "
      ]
     },
     "execution_count": 475,
     "metadata": {},
     "output_type": "execute_result"
    }
   ],
   "source": [
    "labels.head()"
   ]
  },
  {
   "cell_type": "code",
   "execution_count": 476,
   "metadata": {
    "scrolled": false
   },
   "outputs": [
    {
     "data": {
      "text/plain": [
       "<matplotlib.axes._subplots.AxesSubplot at 0x1a2b4dd110>"
      ]
     },
     "execution_count": 476,
     "metadata": {},
     "output_type": "execute_result"
    },
    {
     "data": {
      "image/png": "[encoded data removed]",
      "text/plain": [
       "<Figure size 432x288 with 1 Axes>"
      ]
     },
     "metadata": {
      "needs_background": "light"
     },
     "output_type": "display_data"
    }
   ],
   "source": [
    "# calculate the time difference between two consecative incidents in same region\n",
    "consec_inc_td = []\n",
    "\n",
    "for region in labels.hex6.unique():\n",
    "    time = labels[labels.hex6 == region].sort_values('time').time.diff().dropna().astype('timedelta64[m]')\n",
    "    consec_inc_td += time[time.notnull()].tolist()\n",
    "    \n",
    "consec_inc_td_df = pd.Series(consec_inc_td).sort_values()\n",
    "\n",
    "consec_inc_td_df[consec_inc_td_df < 120].plot.hist(bins=15, alpha=0.8)"
   ]
  },
  {
   "cell_type": "code",
   "execution_count": 477,
   "metadata": {},
   "outputs": [],
   "source": [
    "# T' calculation\n",
    "\n",
    "number_of_reports = []\n",
    "\n",
    "pre_dt = timedelta(minutes=60)\n",
    "\n",
    "for region in labels.hex6.unique():\n",
    "    region_df = labels[labels.hex6 == region]\n",
    "    col = 'r_' + region\n",
    "    if col in records:\n",
    "        records_after = records.loc[records[col] > 0, ['time', 'reliability', col]]\n",
    "        for incident_time in region_df.time.sort_values():\n",
    "            records_before = records_after[((incident_time - pre_dt) <= records_after.time) & (records_after.time <= incident_time)]\n",
    "            time_intervels = (incident_time - records_before.sort_values('time').time).astype('timedelta64[m]')\n",
    "            number_of_reports += time_intervels.tolist()\n",
    "            records_after = records_after[records_after.time > incident_time]"
   ]
  },
  {
   "cell_type": "code",
   "execution_count": 478,
   "metadata": {
    "scrolled": true
   },
   "outputs": [
    {
     "data": {
      "text/plain": [
       "7.867572156196944"
      ]
     },
     "execution_count": 478,
     "metadata": {},
     "output_type": "execute_result"
    }
   ],
   "source": [
    "# on average incident time is -- assuming all incidents are recorded the day of happening\n",
    "\n",
    "np.average(number_of_reports_df[number_of_reports_df < 24])"
   ]
  },
  {
   "cell_type": "code",
   "execution_count": 479,
   "metadata": {},
   "outputs": [
    {
     "data": {
      "text/plain": [
       "<matplotlib.axes._subplots.AxesSubplot at 0x1a2b80e350>"
      ]
     },
     "execution_count": 479,
     "metadata": {},
     "output_type": "execute_result"
    },
    {
     "data": {
      "image/png": "[encoded data removed]",
      "text/plain": [
       "<Figure size 432x288 with 1 Axes>"
      ]
     },
     "metadata": {
      "needs_background": "light"
     },
     "output_type": "display_data"
    }
   ],
   "source": [
    "number_of_reports_df = pd.Series(number_of_reports).sort_values()\n",
    "\n",
    "number_of_reports_df[number_of_reports_df < 24].plot.hist(bins=24, alpha=0.8, label='Time')"
   ]
  },
  {
   "cell_type": "code",
   "execution_count": 582,
   "metadata": {},
   "outputs": [
    {
     "data": {
      "text/html": [
       "<div>\n",
       "<style scoped>\n",
       "    .dataframe tbody tr th:only-of-type {\n",
       "        vertical-align: middle;\n",
       "    }\n",
       "\n",
       "    .dataframe tbody tr th {\n",
       "        vertical-align: top;\n",
       "    }\n",
       "\n",
       "    .dataframe thead th {\n",
       "        text-align: right;\n",
       "    }\n",
       "</style>\n",
       "<table border=\"1\" class=\"dataframe\">\n",
       "  <thead>\n",
       "    <tr style=\"text-align: right;\">\n",
       "      <th></th>\n",
       "      <th>segment_id</th>\n",
       "      <th>time</th>\n",
       "      <th>lat</th>\n",
       "      <th>lng</th>\n",
       "      <th>timestamp</th>\n",
       "      <th>count</th>\n",
       "      <th>hex6</th>\n",
       "      <th>region</th>\n",
       "    </tr>\n",
       "  </thead>\n",
       "  <tbody>\n",
       "    <tr>\n",
       "      <td>8</td>\n",
       "      <td>75</td>\n",
       "      <td>2019-12-19 16:06:00</td>\n",
       "      <td>36.33891</td>\n",
       "      <td>-86.91617</td>\n",
       "      <td>1.576772e+09</td>\n",
       "      <td>1</td>\n",
       "      <td>86264dc77ffffff</td>\n",
       "      <td>r_86264dc77ffffff</td>\n",
       "    </tr>\n",
       "    <tr>\n",
       "      <td>9</td>\n",
       "      <td>75</td>\n",
       "      <td>2019-12-08 20:18:00</td>\n",
       "      <td>36.33207</td>\n",
       "      <td>-86.90093</td>\n",
       "      <td>1.575836e+09</td>\n",
       "      <td>1</td>\n",
       "      <td>86264dd5fffffff</td>\n",
       "      <td>r_86264dd5fffffff</td>\n",
       "    </tr>\n",
       "    <tr>\n",
       "      <td>10</td>\n",
       "      <td>75</td>\n",
       "      <td>2019-12-08 22:45:00</td>\n",
       "      <td>36.33152</td>\n",
       "      <td>-86.90128</td>\n",
       "      <td>1.575845e+09</td>\n",
       "      <td>1</td>\n",
       "      <td>86264dd5fffffff</td>\n",
       "      <td>r_86264dd5fffffff</td>\n",
       "    </tr>\n",
       "    <tr>\n",
       "      <td>11</td>\n",
       "      <td>75</td>\n",
       "      <td>2019-12-09 13:04:00</td>\n",
       "      <td>36.33891</td>\n",
       "      <td>-86.91617</td>\n",
       "      <td>1.575897e+09</td>\n",
       "      <td>1</td>\n",
       "      <td>86264dc77ffffff</td>\n",
       "      <td>r_86264dc77ffffff</td>\n",
       "    </tr>\n",
       "    <tr>\n",
       "      <td>34</td>\n",
       "      <td>78</td>\n",
       "      <td>2019-12-15 20:01:00</td>\n",
       "      <td>36.32500</td>\n",
       "      <td>-86.87300</td>\n",
       "      <td>1.576440e+09</td>\n",
       "      <td>1</td>\n",
       "      <td>86264dc67ffffff</td>\n",
       "      <td>r_86264dc67ffffff</td>\n",
       "    </tr>\n",
       "    <tr>\n",
       "      <td>...</td>\n",
       "      <td>...</td>\n",
       "      <td>...</td>\n",
       "      <td>...</td>\n",
       "      <td>...</td>\n",
       "      <td>...</td>\n",
       "      <td>...</td>\n",
       "      <td>...</td>\n",
       "      <td>...</td>\n",
       "    </tr>\n",
       "    <tr>\n",
       "      <td>6921</td>\n",
       "      <td>2922</td>\n",
       "      <td>2019-12-30 14:00:00</td>\n",
       "      <td>36.12500</td>\n",
       "      <td>-86.73495</td>\n",
       "      <td>1.577714e+09</td>\n",
       "      <td>1</td>\n",
       "      <td>86264d10fffffff</td>\n",
       "      <td>r_86264d10fffffff</td>\n",
       "    </tr>\n",
       "    <tr>\n",
       "      <td>6922</td>\n",
       "      <td>2922</td>\n",
       "      <td>2019-12-04 16:47:00</td>\n",
       "      <td>36.12430</td>\n",
       "      <td>-86.74385</td>\n",
       "      <td>1.575478e+09</td>\n",
       "      <td>1</td>\n",
       "      <td>86264d10fffffff</td>\n",
       "      <td>r_86264d10fffffff</td>\n",
       "    </tr>\n",
       "    <tr>\n",
       "      <td>6923</td>\n",
       "      <td>2922</td>\n",
       "      <td>2019-12-04 19:15:00</td>\n",
       "      <td>36.12435</td>\n",
       "      <td>-86.74214</td>\n",
       "      <td>1.575487e+09</td>\n",
       "      <td>1</td>\n",
       "      <td>86264d10fffffff</td>\n",
       "      <td>r_86264d10fffffff</td>\n",
       "    </tr>\n",
       "    <tr>\n",
       "      <td>6924</td>\n",
       "      <td>2922</td>\n",
       "      <td>2019-12-09 23:27:00</td>\n",
       "      <td>36.12434</td>\n",
       "      <td>-86.74273</td>\n",
       "      <td>1.575934e+09</td>\n",
       "      <td>1</td>\n",
       "      <td>86264d10fffffff</td>\n",
       "      <td>r_86264d10fffffff</td>\n",
       "    </tr>\n",
       "    <tr>\n",
       "      <td>6956</td>\n",
       "      <td>2924</td>\n",
       "      <td>2019-12-13 15:59:00</td>\n",
       "      <td>36.12613</td>\n",
       "      <td>-86.73117</td>\n",
       "      <td>1.576253e+09</td>\n",
       "      <td>1</td>\n",
       "      <td>86264d10fffffff</td>\n",
       "      <td>r_86264d10fffffff</td>\n",
       "    </tr>\n",
       "  </tbody>\n",
       "</table>\n",
       "<p>818 rows × 8 columns</p>\n",
       "</div>"
      ],
      "text/plain": [
       "      segment_id                time       lat       lng     timestamp  count  \\\n",
       "8             75 2019-12-19 16:06:00  36.33891 -86.91617  1.576772e+09      1   \n",
       "9             75 2019-12-08 20:18:00  36.33207 -86.90093  1.575836e+09      1   \n",
       "10            75 2019-12-08 22:45:00  36.33152 -86.90128  1.575845e+09      1   \n",
       "11            75 2019-12-09 13:04:00  36.33891 -86.91617  1.575897e+09      1   \n",
       "34            78 2019-12-15 20:01:00  36.32500 -86.87300  1.576440e+09      1   \n",
       "...          ...                 ...       ...       ...           ...    ...   \n",
       "6921        2922 2019-12-30 14:00:00  36.12500 -86.73495  1.577714e+09      1   \n",
       "6922        2922 2019-12-04 16:47:00  36.12430 -86.74385  1.575478e+09      1   \n",
       "6923        2922 2019-12-04 19:15:00  36.12435 -86.74214  1.575487e+09      1   \n",
       "6924        2922 2019-12-09 23:27:00  36.12434 -86.74273  1.575934e+09      1   \n",
       "6956        2924 2019-12-13 15:59:00  36.12613 -86.73117  1.576253e+09      1   \n",
       "\n",
       "                 hex6             region  \n",
       "8     86264dc77ffffff  r_86264dc77ffffff  \n",
       "9     86264dd5fffffff  r_86264dd5fffffff  \n",
       "10    86264dd5fffffff  r_86264dd5fffffff  \n",
       "11    86264dc77ffffff  r_86264dc77ffffff  \n",
       "34    86264dc67ffffff  r_86264dc67ffffff  \n",
       "...               ...                ...  \n",
       "6921  86264d10fffffff  r_86264d10fffffff  \n",
       "6922  86264d10fffffff  r_86264d10fffffff  \n",
       "6923  86264d10fffffff  r_86264d10fffffff  \n",
       "6924  86264d10fffffff  r_86264d10fffffff  \n",
       "6956  86264d10fffffff  r_86264d10fffffff  \n",
       "\n",
       "[818 rows x 8 columns]"
      ]
     },
     "execution_count": 582,
     "metadata": {},
     "output_type": "execute_result"
    }
   ],
   "source": [
    "labels"
   ]
  },
  {
   "cell_type": "markdown",
   "metadata": {},
   "source": [
    "### Estimate posterior probabilities every 5 min (keep doing this up to T' min)"
   ]
  },
  {
   "cell_type": "code",
   "execution_count": 480,
   "metadata": {},
   "outputs": [
    {
     "data": {
      "text/plain": [
       "1.0"
      ]
     },
     "execution_count": 480,
     "metadata": {},
     "output_type": "execute_result"
    }
   ],
   "source": [
    "# change to historical data values\n",
    "# P(I=1,R1)\n",
    "def region_prior(region):\n",
    "    # use labels_prv to prevent overfitting\n",
    "    return sum(labels.region == region) / labels.shape[0]\n",
    "\n",
    "np.sum([region_prior(r) for r in np.unique(labels.region)])"
   ]
  },
  {
   "cell_type": "code",
   "execution_count": 481,
   "metadata": {},
   "outputs": [],
   "source": [
    "def p(r):\n",
    "    return r / 10"
   ]
  },
  {
   "cell_type": "code",
   "execution_count": 482,
   "metadata": {},
   "outputs": [],
   "source": [
    "def calculate_likelihood(m):\n",
    "    c = m.reliability.apply(p)\n",
    "    m.drop('reliability', axis=1, inplace=True)\n",
    "    if m.shape[0] == 0:\n",
    "        m.loc[0], c = np.zeros(m.shape[1]), 0\n",
    "    return (m.T * c).T.prod(axis=0)"
   ]
  },
  {
   "cell_type": "code",
   "execution_count": 680,
   "metadata": {},
   "outputs": [],
   "source": [
    "def calculate_posterior_v2(df, r, time_step=5):\n",
    "    print(df[['reliability', 'time', 'r_86264d8dfffffff']].sort_values('time'))\n",
    "    time_steps_records = df.set_index('time').resample(f'{time_step}T')\n",
    "    likelihood = time_steps_records.apply(calculate_likelihood)\n",
    "    print(f'Region Prior: {region_prior(\"r_86264d8dfffffff\")}')\n",
    "    print()\n",
    "    print(likelihood['r_86264d8dfffffff'])\n",
    "    region_priors = []\n",
    "    sourrounding_region_priors = []\n",
    "    for c in likelihood:\n",
    "        region_priors.append(region_prior(c))\n",
    "        if c in surroundings(r):\n",
    "            sourrounding_region_priors.append(region_prior(c))\n",
    "    region_priors = np.array(region_priors)\n",
    "    likelihood.iloc[0, :] = region_priors * likelihood.iloc[0, :]\n",
    "    p_n = likelihood.replace({0:np.nan}).cumprod(axis=0, skipna=True)\n",
    "    print()\n",
    "    print('p_n: ')\n",
    "    print(p_n['r_86264d8dfffffff'])\n",
    "    p_0 = (1 - np.sum(sourrounding_region_priors))\n",
    "    print()\n",
    "    print('p_0: ')\n",
    "    print(p_0)\n",
    "    l_0 = time_steps_records.apply(lambda m: (1 - m.reliability.apply(p)).prod())\n",
    "    print()\n",
    "    print('l_0: ')\n",
    "    print(l_0)\n",
    "    p_d = np.sum(p_n, axis=1) + p_0 * l_0\n",
    "    print()\n",
    "    print('p_d')\n",
    "    print(p_d)\n",
    "    posterior = p_n[r] / p_d\n",
    "    print()\n",
    "    print('Posterior: ')\n",
    "    print(posterior)\n",
    "    return likelihood.index, posterior"
   ]
  },
  {
   "cell_type": "code",
   "execution_count": 681,
   "metadata": {},
   "outputs": [
    {
     "name": "stdout",
     "output_type": "stream",
     "text": [
      "     reliability                time  r_86264d8dfffffff\n",
      "157           10 2019-12-03 14:02:39           1.000000\n",
      "201           10 2019-12-03 14:02:39           1.000000\n",
      "233            7 2019-12-03 14:02:39           1.000000\n",
      "29            10 2019-12-03 14:09:57           1.000000\n",
      "99            10 2019-12-03 14:09:57           1.000000\n",
      "108            8 2019-12-03 14:09:57           1.000000\n",
      "158            5 2019-12-03 14:09:57           1.000000\n",
      "171           10 2019-12-03 14:09:57           1.000000\n",
      "192           10 2019-12-03 14:09:57           1.000000\n",
      "198            6 2019-12-03 14:09:57           1.000000\n",
      "100           10 2019-12-03 14:10:15           0.988415\n",
      "159            5 2019-12-03 14:10:15           0.988415\n",
      "199            7 2019-12-03 14:10:15           0.988415\n",
      "232           10 2019-12-03 14:10:15           0.988415\n",
      "205            6 2019-12-03 14:22:28           1.000000\n",
      "221            5 2019-12-03 14:22:28           1.000000\n",
      "Region Prior: 0.01589242053789731\n",
      "\n",
      "time\n",
      "2019-12-03 14:00:00    0.70000\n",
      "2019-12-03 14:05:00    0.24000\n",
      "2019-12-03 14:10:00    0.33406\n",
      "2019-12-03 14:15:00    0.00000\n",
      "2019-12-03 14:20:00    0.30000\n",
      "Name: r_86264d8dfffffff, dtype: float64\n",
      "\n",
      "p_n: \n",
      "time\n",
      "2019-12-03 14:00:00    0.011125\n",
      "2019-12-03 14:05:00    0.002670\n",
      "2019-12-03 14:10:00    0.000892\n",
      "2019-12-03 14:15:00         NaN\n",
      "2019-12-03 14:20:00    0.000268\n",
      "Name: r_86264d8dfffffff, dtype: float64\n",
      "\n",
      "p_0: \n",
      "0.16748166259168706\n",
      "\n",
      "l_0: \n",
      "time\n",
      "2019-12-03 14:00:00    0.0\n",
      "2019-12-03 14:05:00    0.0\n",
      "2019-12-03 14:10:00    0.0\n",
      "2019-12-03 14:15:00    1.0\n",
      "2019-12-03 14:20:00    0.2\n",
      "Freq: 5T, dtype: float64\n",
      "\n",
      "p_d\n",
      "time\n",
      "2019-12-03 14:00:00    0.011125\n",
      "2019-12-03 14:05:00    0.002670\n",
      "2019-12-03 14:10:00    0.000892\n",
      "2019-12-03 14:15:00    0.167482\n",
      "2019-12-03 14:20:00    0.033764\n",
      "dtype: float64\n",
      "\n",
      "Posterior: \n",
      "time\n",
      "2019-12-03 14:00:00    1.000000\n",
      "2019-12-03 14:05:00    1.000000\n",
      "2019-12-03 14:10:00    0.999993\n",
      "2019-12-03 14:15:00         NaN\n",
      "2019-12-03 14:20:00    0.007925\n",
      "dtype: float64\n",
      "r_86264d8dfffffff 2019-12-03 14:02:39 5\n"
     ]
    },
    {
     "data": {
      "text/html": [
       "<div>\n",
       "<style scoped>\n",
       "    .dataframe tbody tr th:only-of-type {\n",
       "        vertical-align: middle;\n",
       "    }\n",
       "\n",
       "    .dataframe tbody tr th {\n",
       "        vertical-align: top;\n",
       "    }\n",
       "\n",
       "    .dataframe thead th {\n",
       "        text-align: right;\n",
       "    }\n",
       "</style>\n",
       "<table border=\"1\" class=\"dataframe\">\n",
       "  <thead>\n",
       "    <tr style=\"text-align: right;\">\n",
       "      <th></th>\n",
       "      <th>incident_id</th>\n",
       "      <th>start_time</th>\n",
       "      <th>end_time</th>\n",
       "      <th>time</th>\n",
       "      <th>region</th>\n",
       "      <th>posterior_proba</th>\n",
       "    </tr>\n",
       "  </thead>\n",
       "  <tbody>\n",
       "    <tr>\n",
       "      <td>0</td>\n",
       "      <td>0</td>\n",
       "      <td>2019-12-03 14:02:39</td>\n",
       "      <td>2019-12-03 14:27:39</td>\n",
       "      <td>2019-12-03 14:00:00</td>\n",
       "      <td>r_86264d8dfffffff</td>\n",
       "      <td>1.000000</td>\n",
       "    </tr>\n",
       "    <tr>\n",
       "      <td>1</td>\n",
       "      <td>0</td>\n",
       "      <td>2019-12-03 14:02:39</td>\n",
       "      <td>2019-12-03 14:27:39</td>\n",
       "      <td>2019-12-03 14:05:00</td>\n",
       "      <td>r_86264d8dfffffff</td>\n",
       "      <td>1.000000</td>\n",
       "    </tr>\n",
       "    <tr>\n",
       "      <td>2</td>\n",
       "      <td>0</td>\n",
       "      <td>2019-12-03 14:02:39</td>\n",
       "      <td>2019-12-03 14:27:39</td>\n",
       "      <td>2019-12-03 14:10:00</td>\n",
       "      <td>r_86264d8dfffffff</td>\n",
       "      <td>0.999993</td>\n",
       "    </tr>\n",
       "    <tr>\n",
       "      <td>3</td>\n",
       "      <td>0</td>\n",
       "      <td>2019-12-03 14:02:39</td>\n",
       "      <td>2019-12-03 14:27:39</td>\n",
       "      <td>2019-12-03 14:15:00</td>\n",
       "      <td>r_86264d8dfffffff</td>\n",
       "      <td>NaN</td>\n",
       "    </tr>\n",
       "    <tr>\n",
       "      <td>4</td>\n",
       "      <td>0</td>\n",
       "      <td>2019-12-03 14:02:39</td>\n",
       "      <td>2019-12-03 14:27:39</td>\n",
       "      <td>2019-12-03 14:20:00</td>\n",
       "      <td>r_86264d8dfffffff</td>\n",
       "      <td>0.007925</td>\n",
       "    </tr>\n",
       "  </tbody>\n",
       "</table>\n",
       "</div>"
      ],
      "text/plain": [
       "   incident_id          start_time            end_time                time  \\\n",
       "0            0 2019-12-03 14:02:39 2019-12-03 14:27:39 2019-12-03 14:00:00   \n",
       "1            0 2019-12-03 14:02:39 2019-12-03 14:27:39 2019-12-03 14:05:00   \n",
       "2            0 2019-12-03 14:02:39 2019-12-03 14:27:39 2019-12-03 14:10:00   \n",
       "3            0 2019-12-03 14:02:39 2019-12-03 14:27:39 2019-12-03 14:15:00   \n",
       "4            0 2019-12-03 14:02:39 2019-12-03 14:27:39 2019-12-03 14:20:00   \n",
       "\n",
       "              region  posterior_proba  \n",
       "0  r_86264d8dfffffff         1.000000  \n",
       "1  r_86264d8dfffffff         1.000000  \n",
       "2  r_86264d8dfffffff         0.999993  \n",
       "3  r_86264d8dfffffff              NaN  \n",
       "4  r_86264d8dfffffff         0.007925  "
      ]
     },
     "execution_count": 681,
     "metadata": {},
     "output_type": "execute_result"
    }
   ],
   "source": [
    "def incident_posterior_example(df, incident_interval=25):\n",
    "    incident_interval = timedelta(minutes=incident_interval)\n",
    "    features = []\n",
    "    incident_id = 0\n",
    "    col = 'r_86264d8dfffffff'\n",
    "    df_region = df.loc[df[col] > 0, :]\n",
    "    incident_time = parse('2019-12-03 14:02:39')\n",
    "    incident_records = df_region[(incident_time <= df_region.time) & (df_region.time < (incident_time + incident_interval))]\n",
    "    time_steps, posterior_probs = calculate_posterior_v2(incident_records, col)\n",
    "    features_temp = []\n",
    "    print(col, incident_time, len(time_steps))\n",
    "    for time_step, posterior_proba in zip(time_steps, posterior_probs):\n",
    "        features_temp.append({\n",
    "            'incident_id': incident_id, \n",
    "            'start_time': incident_time,\n",
    "            'end_time': incident_time + incident_interval,\n",
    "            'time': time_step, \n",
    "            'region': col,\n",
    "            'posterior_proba': posterior_proba,\n",
    "        })\n",
    "    features += features_temp\n",
    "    incident_id = incident_id + 1\n",
    "    return pd.DataFrame(features)\n",
    "\n",
    "features = incident_posterior_example(records)\n",
    "\n",
    "features.head()"
   ]
  },
  {
   "cell_type": "code",
   "execution_count": 650,
   "metadata": {},
   "outputs": [
    {
     "data": {
      "text/html": [
       "<div>\n",
       "<style scoped>\n",
       "    .dataframe tbody tr th:only-of-type {\n",
       "        vertical-align: middle;\n",
       "    }\n",
       "\n",
       "    .dataframe tbody tr th {\n",
       "        vertical-align: top;\n",
       "    }\n",
       "\n",
       "    .dataframe thead th {\n",
       "        text-align: right;\n",
       "    }\n",
       "</style>\n",
       "<table border=\"1\" class=\"dataframe\">\n",
       "  <thead>\n",
       "    <tr style=\"text-align: right;\">\n",
       "      <th></th>\n",
       "      <th>0</th>\n",
       "    </tr>\n",
       "  </thead>\n",
       "  <tbody>\n",
       "    <tr>\n",
       "      <td>0</td>\n",
       "      <td>5</td>\n",
       "    </tr>\n",
       "    <tr>\n",
       "      <td>1</td>\n",
       "      <td>1</td>\n",
       "    </tr>\n",
       "  </tbody>\n",
       "</table>\n",
       "</div>"
      ],
      "text/plain": [
       "   0\n",
       "0  5\n",
       "1  1"
      ]
     },
     "execution_count": 650,
     "metadata": {},
     "output_type": "execute_result"
    }
   ],
   "source": [
    "# number of incidents with the number of waze reports\n",
    "\n",
    "pd.DataFrame(np.unique(features.groupby('incident_id').size(), return_counts=True))"
   ]
  },
  {
   "cell_type": "code",
   "execution_count": null,
   "metadata": {},
   "outputs": [],
   "source": [
    "np.unique(features.incident_id).size"
   ]
  },
  {
   "cell_type": "markdown",
   "metadata": {},
   "source": [
    "# Incident Prediction"
   ]
  },
  {
   "cell_type": "code",
   "execution_count": null,
   "metadata": {},
   "outputs": [],
   "source": [
    "# Map labels with records\n",
    "def label_mapper(features, labels):\n",
    "    mapped_labels = []\n",
    "    for index, row in features.iterrows():\n",
    "        label = labels[(labels.time >= row.start_time) & (labels.time < row.end_time) & (labels.region==row.region)]\n",
    "        mapped_labels.append(label.shape[0] > 0)\n",
    "    return mapped_labels"
   ]
  },
  {
   "cell_type": "code",
   "execution_count": null,
   "metadata": {},
   "outputs": [],
   "source": [
    "features.loc[:,'label'] = label_mapper(features, labels)"
   ]
  },
  {
   "cell_type": "code",
   "execution_count": null,
   "metadata": {},
   "outputs": [],
   "source": [
    "features.head()"
   ]
  },
  {
   "cell_type": "code",
   "execution_count": null,
   "metadata": {},
   "outputs": [],
   "source": [
    "np.unique(features.label, return_counts=True)"
   ]
  },
  {
   "cell_type": "code",
   "execution_count": null,
   "metadata": {},
   "outputs": [],
   "source": [
    "features.loc[:, 'hour'] = features.time.dt.hour\n",
    "\n",
    "features.loc[:, 'is_peak'] = ((1 <= features.hour) & (features.hour <= 4)) | ((10 <= features.hour) & (features.hour <= 14))\n",
    "\n",
    "features.head()"
   ]
  },
  {
   "cell_type": "code",
   "execution_count": 583,
   "metadata": {},
   "outputs": [
    {
     "data": {
      "text/plain": [
       "0.6279434850863422"
      ]
     },
     "execution_count": 583,
     "metadata": {},
     "output_type": "execute_result"
    }
   ],
   "source": [
    "from sklearn.linear_model import LogisticRegression\n",
    "from sklearn.model_selection import train_test_split\n",
    "\n",
    "from sklearn.preprocessing import OneHotEncoder\n",
    "from sklearn.compose import ColumnTransformer\n",
    "\n",
    "feature_extractor = ColumnTransformer([\n",
    "    ('posterior_proba', 'passthrough', ['posterior_proba']),\n",
    "    # ('is_peak', 'passthrough', ['is_peak']),\n",
    "    ('hour_enc', OneHotEncoder(), ['hour']),\n",
    "    ('region_enc', OneHotEncoder(), ['region']),\n",
    "])\n",
    "\n",
    "X = feature_extractor.fit_transform(features)\n",
    "y = features.label\n",
    "\n",
    "X_train, X_test, y_train, y_test = train_test_split(X, y, test_size=0.25, random_state=42)\n",
    "\n",
    "reg = LogisticRegression(random_state=42, class_weight='balanced').fit(X_train, y_train)\n",
    "\n",
    "y_pred = reg.predict(X_test)\n",
    "\n",
    "reg.score(X_test, y_test)"
   ]
  },
  {
   "cell_type": "code",
   "execution_count": 584,
   "metadata": {},
   "outputs": [
    {
     "data": {
      "text/plain": [
       "array([[ 1.3349265 ,  0.48184383,  0.06036677,  0.23893903, -0.67893761,\n",
       "        -0.39292914,  0.0958879 , -0.7548151 , -0.90186194, -0.08578461,\n",
       "        -0.87614939, -0.91163986,  1.21096103, -0.36400356,  0.34703687,\n",
       "         0.28332549,  0.56405639,  0.2044631 ,  0.11711154,  0.30160048,\n",
       "        -0.03955151, -0.49794313,  0.48776477,  0.45628167,  0.65509249,\n",
       "         0.07725068,  1.43330738,  0.76775555, -0.72294842,  0.48128783,\n",
       "         1.11928358,  1.07576694,  0.65055424, -1.25652766,  0.15531397,\n",
       "        -1.48278338, -1.44874236, -0.91746109,  0.22023886,  0.09821691,\n",
       "         0.43539316,  0.07035411,  0.62901703, -0.95790962,  0.26791641,\n",
       "         0.75965457,  0.53025042, -1.11444292, -0.8696307 ]])"
      ]
     },
     "execution_count": 584,
     "metadata": {},
     "output_type": "execute_result"
    }
   ],
   "source": [
    "reg.coef_ "
   ]
  },
  {
   "cell_type": "code",
   "execution_count": 585,
   "metadata": {},
   "outputs": [
    {
     "data": {
      "text/plain": [
       "array([-2.03831405])"
      ]
     },
     "execution_count": 585,
     "metadata": {},
     "output_type": "execute_result"
    }
   ],
   "source": [
    "reg.intercept_"
   ]
  },
  {
   "cell_type": "code",
   "execution_count": 586,
   "metadata": {},
   "outputs": [
    {
     "name": "stdout",
     "output_type": "stream",
     "text": [
      "              precision    recall  f1-score   support\n",
      "\n",
      "       False       0.90      0.61      0.73       518\n",
      "        True       0.29      0.71      0.41       119\n",
      "\n",
      "    accuracy                           0.63       637\n",
      "   macro avg       0.60      0.66      0.57       637\n",
      "weighted avg       0.79      0.63      0.67       637\n",
      "\n"
     ]
    }
   ],
   "source": [
    "from sklearn.metrics import classification_report\n",
    "\n",
    "print(classification_report(y_test, y_pred))"
   ]
  },
  {
   "cell_type": "code",
   "execution_count": null,
   "metadata": {},
   "outputs": [],
   "source": []
  }
 ],
 "metadata": {
  "kernelspec": {
   "display_name": "Python 3",
   "language": "python",
   "name": "python3"
  },
  "language_info": {
   "codemirror_mode": {
    "name": "ipython",
    "version": 3
   },
   "file_extension": ".py",
   "mimetype": "text/x-python",
   "name": "python",
   "nbconvert_exporter": "python",
   "pygments_lexer": "ipython3",
   "version": "3.7.4"
  }
 },
 "nbformat": 4,
 "nbformat_minor": 4
}
