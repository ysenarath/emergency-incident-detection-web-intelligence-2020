{
 "cells": [
  {
   "cell_type": "code",
   "execution_count": 1,
   "metadata": {},
   "outputs": [],
   "source": [
    "import pandas as pd\n",
    "import numpy as np\n",
    "from dateutil.parser import parse\n",
    "from datetime import timedelta\n",
    "import tqdm"
   ]
  },
  {
   "cell_type": "code",
   "execution_count": 2,
   "metadata": {},
   "outputs": [],
   "source": [
    "records = [\n",
    "    {\n",
    "        'time': '2019-12-03 12:01:00',\n",
    "        'reliability': 10,\n",
    "        'R11':0.24,\n",
    "        'R12':0.23,\n",
    "        'R13':0,\n",
    "        'R21':0.26,\n",
    "        'R22':0.27,\n",
    "        'R23':0,\n",
    "        'R31':0,\n",
    "        'R32':0,\n",
    "        'R33':0,\n",
    "    },\n",
    "    {\n",
    "        'time': '2019-12-03 12:02:00',\n",
    "        'reliability': 8,\n",
    "        'R11':0,\n",
    "        'R12':0.33,\n",
    "        'R13':0.16,\n",
    "        'R21':0,\n",
    "        'R22':0.4,\n",
    "        'R23':0.11,\n",
    "        'R31':0,\n",
    "        'R32':0,\n",
    "        'R33':0,\n",
    "    },\n",
    "    {\n",
    "        'time': '2019-12-03 12:10:01',\n",
    "        'reliability': 5,\n",
    "        'R11':0,\n",
    "        'R12':0,\n",
    "        'R13':0,\n",
    "        'R21':0,\n",
    "        'R22':0.3,\n",
    "        'R23':0.2,\n",
    "        'R31':0,\n",
    "        'R32':0.4,\n",
    "        'R33':0.1,\n",
    "    },\n",
    "]\n",
    "\n",
    "records = pd.DataFrame(records)"
   ]
  },
  {
   "cell_type": "code",
   "execution_count": 3,
   "metadata": {
    "scrolled": true
   },
   "outputs": [
    {
     "data": {
      "text/html": [
       "<div>\n",
       "<style scoped>\n",
       "    .dataframe tbody tr th:only-of-type {\n",
       "        vertical-align: middle;\n",
       "    }\n",
       "\n",
       "    .dataframe tbody tr th {\n",
       "        vertical-align: top;\n",
       "    }\n",
       "\n",
       "    .dataframe thead th {\n",
       "        text-align: right;\n",
       "    }\n",
       "</style>\n",
       "<table border=\"1\" class=\"dataframe\">\n",
       "  <thead>\n",
       "    <tr style=\"text-align: right;\">\n",
       "      <th></th>\n",
       "      <th>time</th>\n",
       "      <th>reliability</th>\n",
       "      <th>R11</th>\n",
       "      <th>R12</th>\n",
       "      <th>R13</th>\n",
       "      <th>R21</th>\n",
       "      <th>R22</th>\n",
       "      <th>R23</th>\n",
       "      <th>R31</th>\n",
       "      <th>R32</th>\n",
       "      <th>R33</th>\n",
       "    </tr>\n",
       "  </thead>\n",
       "  <tbody>\n",
       "    <tr>\n",
       "      <td>0</td>\n",
       "      <td>2019-12-03 12:01:00</td>\n",
       "      <td>10</td>\n",
       "      <td>0.24</td>\n",
       "      <td>0.23</td>\n",
       "      <td>0.00</td>\n",
       "      <td>0.26</td>\n",
       "      <td>0.27</td>\n",
       "      <td>0.00</td>\n",
       "      <td>0</td>\n",
       "      <td>0.0</td>\n",
       "      <td>0.0</td>\n",
       "    </tr>\n",
       "    <tr>\n",
       "      <td>1</td>\n",
       "      <td>2019-12-03 12:02:00</td>\n",
       "      <td>8</td>\n",
       "      <td>0.00</td>\n",
       "      <td>0.33</td>\n",
       "      <td>0.16</td>\n",
       "      <td>0.00</td>\n",
       "      <td>0.40</td>\n",
       "      <td>0.11</td>\n",
       "      <td>0</td>\n",
       "      <td>0.0</td>\n",
       "      <td>0.0</td>\n",
       "    </tr>\n",
       "    <tr>\n",
       "      <td>2</td>\n",
       "      <td>2019-12-03 12:10:01</td>\n",
       "      <td>5</td>\n",
       "      <td>0.00</td>\n",
       "      <td>0.00</td>\n",
       "      <td>0.00</td>\n",
       "      <td>0.00</td>\n",
       "      <td>0.30</td>\n",
       "      <td>0.20</td>\n",
       "      <td>0</td>\n",
       "      <td>0.4</td>\n",
       "      <td>0.1</td>\n",
       "    </tr>\n",
       "  </tbody>\n",
       "</table>\n",
       "</div>"
      ],
      "text/plain": [
       "                 time  reliability   R11   R12   R13   R21   R22   R23  R31  \\\n",
       "0 2019-12-03 12:01:00           10  0.24  0.23  0.00  0.26  0.27  0.00    0   \n",
       "1 2019-12-03 12:02:00            8  0.00  0.33  0.16  0.00  0.40  0.11    0   \n",
       "2 2019-12-03 12:10:01            5  0.00  0.00  0.00  0.00  0.30  0.20    0   \n",
       "\n",
       "   R32  R33  \n",
       "0  0.0  0.0  \n",
       "1  0.0  0.0  \n",
       "2  0.4  0.1  "
      ]
     },
     "execution_count": 3,
     "metadata": {},
     "output_type": "execute_result"
    }
   ],
   "source": [
    "records.loc[:, 'time'] = pd.to_datetime(records.time)\n",
    "\n",
    "records.head()"
   ]
  },
  {
   "cell_type": "code",
   "execution_count": 4,
   "metadata": {},
   "outputs": [
    {
     "data": {
      "text/plain": [
       "(array([ 5,  8, 10]), array([1, 1, 1]))"
      ]
     },
     "execution_count": 4,
     "metadata": {},
     "output_type": "execute_result"
    }
   ],
   "source": [
    "np.unique(records.reliability, return_counts=True)"
   ]
  },
  {
   "cell_type": "markdown",
   "metadata": {},
   "source": [
    "### Estimate posterior probabilities every 5 min (keep doing this up to T' min)"
   ]
  },
  {
   "cell_type": "code",
   "execution_count": 5,
   "metadata": {},
   "outputs": [
    {
     "data": {
      "text/plain": [
       "0.61"
      ]
     },
     "execution_count": 5,
     "metadata": {},
     "output_type": "execute_result"
    }
   ],
   "source": [
    "# change to historical data values\n",
    "# P(I=1,R1)\n",
    "def region_prior(region, time):\n",
    "    # use labels_prv to prevent overfitting\n",
    "    return {\n",
    "        'R11':0.02,\n",
    "        'R12':0.01,\n",
    "        'R13':0.03,\n",
    "        'R21':0.05,\n",
    "        'R22':0.04,\n",
    "        'R23':0.07,\n",
    "        'R31':0.2,\n",
    "        'R32':0.09,\n",
    "        'R33':0.1,\n",
    "    }[region]\n",
    "\n",
    "np.sum([region_prior(r, 0) for r in np.unique(records.columns) if r.startswith('R')])"
   ]
  },
  {
   "cell_type": "code",
   "execution_count": 6,
   "metadata": {},
   "outputs": [],
   "source": [
    "def p(r):\n",
    "    return r / 10"
   ]
  },
  {
   "cell_type": "code",
   "execution_count": 7,
   "metadata": {},
   "outputs": [],
   "source": [
    "def calculate_likelihood(m):\n",
    "    c = m.reliability.apply(p)\n",
    "    m.drop('reliability', axis=1, inplace=True)\n",
    "    if m.shape[0] == 0:\n",
    "        m.loc[0], c = np.zeros(m.shape[1]), 0\n",
    "    return (m.T * c).T.prod(axis=0)"
   ]
  },
  {
   "cell_type": "code",
   "execution_count": 8,
   "metadata": {},
   "outputs": [],
   "source": [
    "def calculate_posterior(df, r, time_step=5):\n",
    "    time_steps_records = df.set_index('time').resample(f'{time_step}T')\n",
    "    # Matrix - containes total likelihood\n",
    "    matrix = time_steps_records.apply(calculate_likelihood)\n",
    "    print('Likelihood:')\n",
    "    print(matrix)\n",
    "    print()\n",
    "    # Find likelihood, prior for first time period\n",
    "    likelihood = matrix.iloc[0, :]\n",
    "    prior = np.array([region_prior(c, matrix.index[0]) for c in matrix])\n",
    "    # Calcualate prior for I = 0 for first time period\n",
    "    p_0 = (1 - np.sum(prior))\n",
    "    # Calcualate likelihood for I = 0 for all periods using reliability of waze reports prod(1-p)\n",
    "    l_0 = time_steps_records.apply(lambda m: (1 - m.reliability.apply(p)).prod())\n",
    "    denom = np.sum(likelihood * prior) + l_0[0] * p_0\n",
    "    # For each time step calculate posterior (start with zero row - special case) \n",
    "    print(f'\\nl_0[0] * p_0: {l_0[0] * p_0}')\n",
    "    print(f'\\nlikelihood * prior: {likelihood * prior}')\n",
    "    # matrix - containes posteriors [partly]   \n",
    "    matrix.iloc[0, :] = likelihood * prior / denom\n",
    "    p_0 = l_0[0] * p_0 / denom\n",
    "    for ridx in range(1, matrix.shape[0]):\n",
    "        prior = matrix.iloc[ridx - 1, :]\n",
    "        likelihood = matrix.iloc[ridx, :]\n",
    "        if np.sum(likelihood) == 0:\n",
    "            matrix.iloc[ridx, :] = prior\n",
    "            continue\n",
    "        # Calculate denominator of posterior\n",
    "        print(f'\\nl_0[{ridx}] * p_0: {l_0[ridx] * p_0}')\n",
    "        print(f'\\nlikelihood * prior: {likelihood * prior}')\n",
    "        denom = np.sum(likelihood * prior) + l_0[ridx] * p_0\n",
    "        # Calculate posterior\n",
    "        matrix.iloc[ridx, :] = likelihood * prior / denom\n",
    "        p_0 = l_0[ridx] * p_0 / denom\n",
    "    print()\n",
    "    print(matrix)\n",
    "    # Return posteriors\n",
    "    return matrix.index, matrix.loc[:, r]"
   ]
  },
  {
   "cell_type": "code",
   "execution_count": 9,
   "metadata": {
    "scrolled": false
   },
   "outputs": [
    {
     "name": "stderr",
     "output_type": "stream",
     "text": [
      "100%|██████████| 11/11 [00:00<00:00, 92.01it/s]"
     ]
    },
    {
     "name": "stdout",
     "output_type": "stream",
     "text": [
      "Likelihood:\n",
      "                     R11      R12  R13  R21     R22  R23  R31  R32   R33\n",
      "time                                                                    \n",
      "2019-12-03 12:00:00  0.0  0.06072  0.0  0.0  0.0864  0.0  0.0  0.0  0.00\n",
      "2019-12-03 12:05:00  0.0  0.00000  0.0  0.0  0.0000  0.0  0.0  0.0  0.00\n",
      "2019-12-03 12:10:00  0.0  0.00000  0.0  0.0  0.1500  0.1  0.0  0.2  0.05\n",
      "\n",
      "\n",
      "l_0[0] * p_0: 0.0\n",
      "\n",
      "likelihood * prior: R11    0.000000\n",
      "R12    0.000607\n",
      "R13    0.000000\n",
      "R21    0.000000\n",
      "R22    0.003456\n",
      "R23    0.000000\n",
      "R31    0.000000\n",
      "R32    0.000000\n",
      "R33    0.000000\n",
      "Name: 2019-12-03 12:00:00, dtype: float64\n",
      "\n",
      "l_0[2] * p_0: 0.0\n",
      "\n",
      "likelihood * prior: R11    0.000000\n",
      "R12    0.000000\n",
      "R13    0.000000\n",
      "R21    0.000000\n",
      "R22    0.127584\n",
      "R23    0.000000\n",
      "R31    0.000000\n",
      "R32    0.000000\n",
      "R33    0.000000\n",
      "dtype: float64\n",
      "\n",
      "                     R11       R12  R13  R21       R22  R23  R31  R32  R33\n",
      "time                                                                      \n",
      "2019-12-03 12:00:00  0.0  0.149439  0.0  0.0  0.850561  0.0  0.0  0.0  0.0\n",
      "2019-12-03 12:05:00  0.0  0.149439  0.0  0.0  0.850561  0.0  0.0  0.0  0.0\n",
      "2019-12-03 12:10:00  0.0  0.000000  0.0  0.0  1.000000  0.0  0.0  0.0  0.0\n"
     ]
    },
    {
     "name": "stderr",
     "output_type": "stream",
     "text": [
      "\n"
     ]
    },
    {
     "data": {
      "text/html": [
       "<div>\n",
       "<style scoped>\n",
       "    .dataframe tbody tr th:only-of-type {\n",
       "        vertical-align: middle;\n",
       "    }\n",
       "\n",
       "    .dataframe tbody tr th {\n",
       "        vertical-align: top;\n",
       "    }\n",
       "\n",
       "    .dataframe thead th {\n",
       "        text-align: right;\n",
       "    }\n",
       "</style>\n",
       "<table border=\"1\" class=\"dataframe\">\n",
       "  <thead>\n",
       "    <tr style=\"text-align: right;\">\n",
       "      <th></th>\n",
       "      <th>incident_id</th>\n",
       "      <th>start_time</th>\n",
       "      <th>end_time</th>\n",
       "      <th>time</th>\n",
       "      <th>region</th>\n",
       "      <th>posterior_proba</th>\n",
       "    </tr>\n",
       "  </thead>\n",
       "  <tbody>\n",
       "    <tr>\n",
       "      <td>0</td>\n",
       "      <td>0</td>\n",
       "      <td>2019-12-03 12:01:00</td>\n",
       "      <td>2019-12-03 12:26:00</td>\n",
       "      <td>2019-12-03 12:00:00</td>\n",
       "      <td>R22</td>\n",
       "      <td>0.850561</td>\n",
       "    </tr>\n",
       "    <tr>\n",
       "      <td>1</td>\n",
       "      <td>0</td>\n",
       "      <td>2019-12-03 12:01:00</td>\n",
       "      <td>2019-12-03 12:26:00</td>\n",
       "      <td>2019-12-03 12:05:00</td>\n",
       "      <td>R22</td>\n",
       "      <td>0.850561</td>\n",
       "    </tr>\n",
       "    <tr>\n",
       "      <td>2</td>\n",
       "      <td>0</td>\n",
       "      <td>2019-12-03 12:01:00</td>\n",
       "      <td>2019-12-03 12:26:00</td>\n",
       "      <td>2019-12-03 12:10:00</td>\n",
       "      <td>R22</td>\n",
       "      <td>1.000000</td>\n",
       "    </tr>\n",
       "  </tbody>\n",
       "</table>\n",
       "</div>"
      ],
      "text/plain": [
       "   incident_id          start_time            end_time                time  \\\n",
       "0            0 2019-12-03 12:01:00 2019-12-03 12:26:00 2019-12-03 12:00:00   \n",
       "1            0 2019-12-03 12:01:00 2019-12-03 12:26:00 2019-12-03 12:05:00   \n",
       "2            0 2019-12-03 12:01:00 2019-12-03 12:26:00 2019-12-03 12:10:00   \n",
       "\n",
       "  region  posterior_proba  \n",
       "0    R22         0.850561  \n",
       "1    R22         0.850561  \n",
       "2    R22         1.000000  "
      ]
     },
     "execution_count": 9,
     "metadata": {},
     "output_type": "execute_result"
    }
   ],
   "source": [
    "def incident_posterior(df, incident_interval=25):\n",
    "    incident_interval = timedelta(minutes=incident_interval)\n",
    "    features = []\n",
    "    incident_id = 0\n",
    "    for col in tqdm.tqdm(df.columns):\n",
    "        # for each region\n",
    "        if col.startswith('R22'):\n",
    "            df_region = df.loc[df[col] > 0, :]\n",
    "            incident_time = np.min(df_region.time)\n",
    "            while incident_time <= np.max(df_region.time):\n",
    "                incident_records = df_region[(incident_time <= df_region.time) & (df_region.time < (incident_time + incident_interval))]\n",
    "                time_steps, posterior_probs = calculate_posterior(incident_records, col)\n",
    "                features_temp = []\n",
    "                for time_step, posterior_proba in zip(time_steps, posterior_probs):\n",
    "                    features_temp.append({\n",
    "                        'incident_id': incident_id, \n",
    "                        'start_time': incident_time,\n",
    "                        'end_time': incident_time + incident_interval,\n",
    "                        'time': time_step, \n",
    "                        'region': col,\n",
    "                        'posterior_proba': posterior_proba,\n",
    "                    })\n",
    "                features += features_temp\n",
    "                incident_time = np.min(df_region[(incident_time + incident_interval) <= df_region.time].time)\n",
    "                incident_id = incident_id + 1\n",
    "    return pd.DataFrame(features)\n",
    "\n",
    "features = incident_posterior(records)\n",
    "\n",
    "features.head()"
   ]
  },
  {
   "cell_type": "code",
   "execution_count": null,
   "metadata": {},
   "outputs": [],
   "source": []
  }
 ],
 "metadata": {
  "kernelspec": {
   "display_name": "Python 3",
   "language": "python",
   "name": "python3"
  },
  "language_info": {
   "codemirror_mode": {
    "name": "ipython",
    "version": 3
   },
   "file_extension": ".py",
   "mimetype": "text/x-python",
   "name": "python",
   "nbconvert_exporter": "python",
   "pygments_lexer": "ipython3",
   "version": "3.7.4"
  }
 },
 "nbformat": 4,
 "nbformat_minor": 4
}
